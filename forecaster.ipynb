{
 "cells": [
  {
   "cell_type": "code",
   "execution_count": null,
   "id": "a811063b",
   "metadata": {},
   "outputs": [],
   "source": [
    "from jupyter_imports import *\n",
    "from utils.io_utils import *\n",
    "from histfeed.ftx_history import *\n",
    "from scipy.interpolate import CubicSpline\n",
    "from scipy.fft import fft, fftfreq\n",
    "from sklearn.decomposition import PCA\n",
    "from sklearn.preprocessing import StandardScaler\n",
    "from sklearn.linear_model import LinearRegression,LassoLarsIC,RidgeCV,ElasticNetCV,LassoCV\n",
    "from sklearn.svm import SVR\n",
    "from sklearn.ensemble import RandomForestRegressor\n",
    "from sklearn.model_selection import TimeSeriesSplit,cross_val_score,cross_val_predict,train_test_split"
   ]
  },
  {
   "cell_type": "markdown",
   "id": "db05aeb2",
   "metadata": {},
   "source": [
    "### get history"
   ]
  },
  {
   "cell_type": "code",
   "execution_count": null,
   "id": "5640bc26",
   "metadata": {},
   "outputs": [],
   "source": [
    "coins = 'wide'\n",
    "futures_df = main([None,'get',coins,'ftx','500'])"
   ]
  },
  {
   "cell_type": "markdown",
   "id": "f8b8b441",
   "metadata": {},
   "source": [
    "### params (Lasso 5% / funding+price / pca=2, seem best)"
   ]
  },
  {
   "cell_type": "code",
   "execution_count": null,
   "id": "0cf0398a",
   "metadata": {},
   "outputs": [],
   "source": [
    "coin = 'ETH'\n",
    "n_split = 5\n",
    "raw_features = [f'{coin}-PERP_rate_funding',\n",
    "                f'{coin}_price_c',\n",
    "                f'{coin}_rate_size',\n",
    "                        f'{coin}_price_volume',\n",
    "                      f'{coin}_rate_borrow']\n",
    "raw_features = raw_features[:4]\n",
    "pca_n = 3\n",
    "horizon_windows = list(range(1,12))+list(range(12,24,4))+list(range(24,48,12))+list(range(48,168,24))\n",
    "holding_windows = horizon_windows[::3]\n",
    "hedge_cost = 1e-3\n",
    "print(horizon_windows)\n",
    "print(holding_windows)"
   ]
  },
  {
   "cell_type": "markdown",
   "id": "8a22de73",
   "metadata": {},
   "source": [
    "### transform features into laplace transform for smoothing"
   ]
  },
  {
   "cell_type": "code",
   "execution_count": null,
   "id": "2fa29c2e",
   "metadata": {},
   "outputs": [],
   "source": [
    "features = futures_df[raw_features]\n",
    "if f'{coin}_price_c' in raw_features:\n",
    "    features[f'{coin}_price_c'] = features[f'{coin}_price_c'].diff()/features[f'{coin}_price_c']"
   ]
  },
  {
   "cell_type": "code",
   "execution_count": null,
   "id": "2298f06a",
   "metadata": {},
   "outputs": [],
   "source": [
    "features[:]=StandardScaler().fit_transform(features)"
   ]
  },
  {
   "cell_type": "code",
   "execution_count": null,
   "id": "71f3cf11",
   "metadata": {},
   "outputs": [],
   "source": [
    "features.iplot(title='features z-score')"
   ]
  },
  {
   "cell_type": "code",
   "execution_count": null,
   "id": "7c1882fa",
   "metadata": {},
   "outputs": [],
   "source": [
    "features_dict = {c:pd.concat({i:\n",
    "    features[c].transform(\n",
    "        lambda x: x.ewm(times= features.index,halflife=timedelta(hours=i+1)).mean()) # x.shift(periods=i))#\n",
    "        for i in horizon_windows},axis=1).dropna()\n",
    "        for c in features.columns}"
   ]
  },
  {
   "cell_type": "code",
   "execution_count": null,
   "id": "66b08c97",
   "metadata": {},
   "outputs": [],
   "source": [
    "dummy_features_dict = {c:pd.concat({i:\n",
    "    features[c].transform(\n",
    "        lambda x: x.shift(periods=i)) # x.shift(periods=i))#\n",
    "        for i in horizon_windows},axis=1).dropna()\n",
    "        for c in features.columns}"
   ]
  },
  {
   "cell_type": "code",
   "execution_count": null,
   "id": "ec353f9e",
   "metadata": {},
   "outputs": [],
   "source": [
    "for feature_name,feature_data in features_dict.items():\n",
    "    df = feature_data.tail(500).reset_index().melt(id_vars='index',value_vars=feature_data.columns)\n",
    "    df = df.sort_values(by=['index','variable'])\n",
    "    df['index'] = df['index'].apply(str)\n",
    "    fig=px.scatter(df,x='variable',y='value', range_y=[-1,1],animation_frame='index',title=feature_name)#, animation_group=\"country\")#\n",
    "           #size=\"pop\", color=\"continent\", hover_name=\"country\",\n",
    "           #log_x=False, size_max=55, range_x=[0,168]))\n",
    "    fig.show()"
   ]
  },
  {
   "cell_type": "markdown",
   "id": "6efdd7eb",
   "metadata": {},
   "source": [
    "### reduce each series by PCA"
   ]
  },
  {
   "cell_type": "code",
   "execution_count": null,
   "id": "90b18d8f",
   "metadata": {},
   "outputs": [],
   "source": [
    "fitted_pca = {name:PCA(n_components=pca_n,svd_solver='full').fit(data) for name,data in features_dict.items()}"
   ]
  },
  {
   "cell_type": "code",
   "execution_count": null,
   "id": "150bde22",
   "metadata": {},
   "outputs": [],
   "source": [
    "explained_variance = pd.concat([pd.Series(name=name,\n",
    "                                         index=range(data.n_components_),\n",
    "                                         data=data.explained_variance_ratio_)\n",
    "                                          for name,data in fitted_pca.items()],axis=1).T\n",
    "explained_variance['total'] = np.sqrt(1-explained_variance.sum(axis=1))\n",
    "explained_variance['n'] = [data.n_components_ for name,data in fitted_pca.items()]\n",
    "print(explained_variance)"
   ]
  },
  {
   "cell_type": "code",
   "execution_count": null,
   "id": "2dd8508c",
   "metadata": {},
   "outputs": [],
   "source": [
    "#factors[f'{coin}-PERP/rate/funding']\n",
    "#interpolate_laplace = CubicSpline(factors[f'{coin}-PERP/rate/funding'][0].index,factors[f'{coin}-PERP/rate/funding'][mode])\n",
    "#lambda_laplace = lambda f: float(interpolate_laplace(float(f)))\n",
    "#[invertlaplace(lambda_laplace,float(x)) for x in data[0].index]\n",
    "#px.line(x=horizon_windows,y=[lambda_laplace(t) for t in horizon_windows])\n",
    "#fitted_pca[f'{coin}-PERP/rate/funding'].singular_values_"
   ]
  },
  {
   "cell_type": "code",
   "execution_count": null,
   "id": "b8686913",
   "metadata": {},
   "outputs": [],
   "source": [
    "factors = {name:pd.DataFrame({i:pd.Series(index=horizon_windows,data=eigen_vect) \n",
    "                        for i,(eigen_vect,eigen_value) in enumerate(zip(data.components_,data.singular_values_))})\n",
    "           for name,data in fitted_pca.items()}\n",
    "\n",
    "fig = make_subplots(rows=len(factors), cols=1,\n",
    "                    subplot_titles=list(factors.keys()),\n",
    "                    shared_xaxes=True,\n",
    "                    vertical_spacing=0.02)\n",
    "\n",
    "for i,(name,data) in enumerate(factors.items()):\n",
    "    for mode in data:\n",
    "        fig.append_trace(go.Scatter(x=data[mode].index,y=data[mode].values,name=mode),\n",
    "            row=i+1, col=1)\n",
    "\n",
    "fig.update_layout(height=1000, width=600, title_text=\"eigenvectors\")\n",
    "fig.show()"
   ]
  },
  {
   "cell_type": "code",
   "execution_count": null,
   "id": "25242933",
   "metadata": {},
   "outputs": [],
   "source": [
    "smoothed = {name:pd.DataFrame(index=features.index,\n",
    "                           columns=pd.MultiIndex.from_product([[name],range(data.n_components_)],names=['feature','pca_mode']),\n",
    "                           data=data.transform(features))\n",
    "             for (name,data),features in zip(fitted_pca.items(),features_dict.values())}\n",
    "smoothed = pd.concat(smoothed.values(),axis=1).dropna()\n",
    "smoothed.xs(0,level=1,axis=1).iplot()"
   ]
  },
  {
   "cell_type": "markdown",
   "id": "1f8d3ebc",
   "metadata": {},
   "source": [
    "### labels"
   ]
  },
  {
   "cell_type": "code",
   "execution_count": null,
   "id": "7155e262",
   "metadata": {
    "scrolled": true
   },
   "outputs": [],
   "source": [
    "labels = (futures_df[f'{coin}-PERP/rate/funding']-futures_df[f'{coin}/rate/borrow']).sort_index(ascending=False)\n",
    "labels = pd.concat({i:\n",
    "    labels.iloc[i:].transform(\n",
    "        lambda x: x.rolling(i+1).mean())\n",
    "        for i in holding_windows},axis=1,join='outer').shift(1)\n",
    "#labels.iplot()"
   ]
  },
  {
   "cell_type": "markdown",
   "id": "0646fb24",
   "metadata": {},
   "source": [
    "### linear reg"
   ]
  },
  {
   "cell_type": "code",
   "execution_count": null,
   "id": "ea7f2375",
   "metadata": {
    "scrolled": true
   },
   "outputs": [],
   "source": [
    "# model = SVR(kernel='sigmoid')\n",
    "# model = RandomForestRegressor()\n",
    "model=LassoCV(cv=TimeSeriesSplit(n_split))\n",
    "#model=ElasticNetCV(cv=TimeSeriesSplit(n_split),l1_ratio=[.1, .5, .7, .9, .95, .99, 1])\n",
    "#model=RidgeCV(cv=TimeSeriesSplit(n_split))\n",
    "#model=LassoLarsCV(cv=TimeSeriesSplit(n_split))\n",
    "holding_grid = {}\n",
    "for j in holding_windows:\n",
    "    x_y = smoothed.join(pd.DataFrame({'y':labels[j]}),how='inner').dropna()\n",
    "    x = x_y.drop(columns='y')\n",
    "    y = x_y['y']\n",
    "\n",
    "    fitted_model = model.fit(x,y)\n",
    "    holding_grid |= {j:cross_val_score(model, x, y,scoring=\"neg_mean_absolute_error\", cv=TimeSeriesSplit(n_split))}\n",
    "tx_costs = pd.Series(index=holding_windows,data=[hedge_cost*.00024*365/j for j in holding_windows])\n",
    "px.line((pd.DataFrame(holding_grid).describe().drop(index=['min','max','count','std'])-tx_costs).T,title=f'{model.__class__}cross val scores by holding period')"
   ]
  },
  {
   "cell_type": "code",
   "execution_count": null,
   "id": "0de5672d",
   "metadata": {},
   "outputs": [],
   "source": [
    "x_y = smoothed.join(pd.DataFrame({'y':labels[10]}),how='inner').dropna()\n",
    "x = x_y.drop(columns='y')\n",
    "y = x_y['y']\n",
    "\n",
    "fitted_model = model.fit(x,y)\n",
    "pd.DataFrame(index=pd.MultiIndex.from_tuples(smoothed.columns,names=['feature','pca_mode']),data=fitted_model.coef_).unstack(level='pca_mode')\n",
    "pd.Series(index=fitted_model.alphas_,data=[np.mean(x) for x in fitted_model.mse_path_]).iplot(title=f'alpha={fitted_model.alpha_}')"
   ]
  },
  {
   "cell_type": "code",
   "execution_count": null,
   "id": "ae406568",
   "metadata": {
    "scrolled": true
   },
   "outputs": [],
   "source": [
    "#model=ElasticNet(l1_ratio=0.5)\n",
    "#model=RidgeCV(cv=TimeSeriesSplit(n_split))\n",
    "#model=LassoLarsCV(cv=TimeSeriesSplit(n_split))\n",
    "model=LinearRegression()\n",
    "holding_grid = {}\n",
    "for j in holding_windows:\n",
    "    x_y = smoothed.join(pd.DataFrame({'y':labels[j]}),how='inner').dropna()\n",
    "    x = x_y.drop(columns='y')\n",
    "    y = x_y['y']\n",
    "\n",
    "    fitted_model = model.fit(x,y)\n",
    "    holding_grid |= {j:cross_val_score(model, x, y,scoring=\"neg_mean_absolute_error\", cv=TimeSeriesSplit(n_split))}\n",
    "px.line(pd.DataFrame(holding_grid).describe().drop(index=['min','max','count','std']).T,title=f'{model.__class__}cross val scores by holding period')"
   ]
  },
  {
   "cell_type": "markdown",
   "id": "f994ff5c",
   "metadata": {},
   "source": [
    "### performance by holding period"
   ]
  },
  {
   "cell_type": "code",
   "execution_count": null,
   "id": "85b210d2",
   "metadata": {},
   "outputs": [],
   "source": [
    "holding_grid = {}\n",
    "input_df = futures_df[f'{coin}-PERP_rate_funding']-futures_df[f'{coin}_rate_borrow']\n",
    "benchmark = input_df.ewm(times=input_df.index,halflife=timedelta(hours=48)).mean()\n",
    "for j in holding_windows:\n",
    "    x_y = smoothed.join(pd.DataFrame({'y':labels[j]})).dropna()\n",
    "    x = x_y.drop(columns=['y'])\n",
    "    y = x_y['y']\n",
    "\n",
    "    fitted_model = LassoCV().fit(x,y)\n",
    "    #fitted_model = LinearRegression().fit(x,y)\n",
    "    #print(fitted_model.score(x_y[smoothed.columns],x_y['y']))\n",
    "    x_y['predicted'] = fitted_model.predict(x)\n",
    "    x_y['benchmark'] = y-benchmark[x_y.index]\n",
    "    x_y['diff'] = y-x_y['predicted']#-0.001*365.25*24_j\n",
    "    #x_y[['y','predicted','diff']].iplot()\n",
    "    \n",
    "    holding_grid |= {j:x_y['diff'].describe()}\n",
    "pd.DataFrame(holding_grid).T.drop(columns=['min','max','count','std']).iplot(title='tracking error stats by holding period')"
   ]
  },
  {
   "cell_type": "markdown",
   "id": "06800f97",
   "metadata": {},
   "source": [
    "### ...or just pick a window"
   ]
  },
  {
   "cell_type": "code",
   "execution_count": null,
   "id": "e613f005",
   "metadata": {},
   "outputs": [],
   "source": [
    "input_df = futures_df[f'{coin}-PERP_rate_funding']-futures_df[f'{coin}_rate_borrow']\n",
    "feature = input_df.ewm(times=input_df.index,halflife=timedelta(hours=48)).mean()\n",
    "label = input_df.transform(lambda x: x.rolling(24).mean()).shift(1)"
   ]
  },
  {
   "cell_type": "code",
   "execution_count": null,
   "id": "780495b6",
   "metadata": {},
   "outputs": [],
   "source": [
    "pd.concat([label,label-feature],axis=1).dropna().iplot()"
   ]
  },
  {
   "cell_type": "code",
   "execution_count": null,
   "id": "ce48ebae",
   "metadata": {},
   "outputs": [],
   "source": [
    "feature = (futures_df[[f'{coin}-PERP_rate_funding']]-futures_df[[f'{coin}_rate_borrow']]).ewm(times= features.index,halflife=timedelta(hours=24)).mean())},axis=1).dropna()\n",
    "label = (futures_df[[f'{coin}-PERP_rate_funding']]-futures_df[[f'{coin}_rate_borrow']]).transform(lambda x: x.rolling(24).mean())\n",
    "\n",
    "\n",
    "holding_grid = {}\n",
    "for i in horizon_windows:\n",
    "    picked_windows = [i]*len(raw_features)\n",
    "    smoothed = pd.DataFrame({name:features_dict[name][window] for name,window in zip(raw_features,picked_windows)}).dropna()\n",
    "\n",
    "    #model=ElasticNet(l1_ratio=0.5)\n",
    "    model=LinearRegression()\n",
    "    for j in holding_windows:\n",
    "        x_y = smoothed.join(pd.DataFrame({'y':labels[j]}),how='inner').dropna()\n",
    "        x = x_y.drop(columns='y')\n",
    "        y = x_y['y']\n",
    "\n",
    "        fitted_model = model.fit(x,y)\n",
    "        holding_grid |= {(i,j):cross_val_score(model, x, y,scoring=\"neg_mean_absolute_error\", cv=TimeSeriesSplit(n_split))}\n",
    "holding_grid = pd.DataFrame(holding_grid)"
   ]
  },
  {
   "cell_type": "code",
   "execution_count": null,
   "id": "24ce6eba",
   "metadata": {},
   "outputs": [],
   "source": [
    "fig = make_subplots(rows=1,#len(holding_grid.columns.levels[0]), cols=1,\n",
    "            subplot_titles=[f'horizon_{holding}' for holding in holding_grid.columns.levels[0]],\n",
    "            shared_xaxes=True,\n",
    "            vertical_spacing=0.02)\n",
    "\n",
    "for i,horizon in enumerate(holding_grid.columns.levels[0]):\n",
    "    holding_curve = holding_grid[(horizon,)].describe().T[['mean']]\n",
    "    for stat in holding_curve.columns:\n",
    "        fig.append_trace(go.Scatter(x=holding_grid.columns.levels[1],\n",
    "                                    y=holding_curve[stat].values,\n",
    "                                    name=f'mean_{horizon}'),\n",
    "                         row=1, col=1)\n",
    "\n",
    "fig.update_layout(height=1000, width=600, title_text='mean err by holding by horizon')\n",
    "fig.show()"
   ]
  },
  {
   "cell_type": "code",
   "execution_count": null,
   "id": "2c4cf3f4",
   "metadata": {},
   "outputs": [],
   "source": []
  },
  {
   "cell_type": "code",
   "execution_count": null,
   "id": "cc363892",
   "metadata": {},
   "outputs": [],
   "source": []
  },
  {
   "cell_type": "code",
   "execution_count": null,
   "id": "dd9998dc",
   "metadata": {},
   "outputs": [],
   "source": []
  }
 ],
 "metadata": {
  "kernelspec": {
   "display_name": "Python 3 (ipykernel)",
   "language": "python",
   "name": "python3"
  },
  "language_info": {
   "codemirror_mode": {
    "name": "ipython",
    "version": 3
   },
   "file_extension": ".py",
   "mimetype": "text/x-python",
   "name": "python",
   "nbconvert_exporter": "python",
   "pygments_lexer": "ipython3",
   "version": "3.9.13"
  }
 },
 "nbformat": 4,
 "nbformat_minor": 5
}
