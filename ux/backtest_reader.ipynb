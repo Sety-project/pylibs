{
 "cells": [
  {
   "cell_type": "code",
   "execution_count": null,
   "id": "5f505f3f",
   "metadata": {},
   "outputs": [],
   "source": [
    "from jupyter_imports import *"
   ]
  },
  {
   "cell_type": "code",
   "execution_count": null,
   "id": "e397ab4a",
   "metadata": {},
   "outputs": [],
   "source": [
    "original_pnl = pd.read_csv(os.path.join(os.sep, 'tmp','pfoptimizer','pnl.csv'))\n",
    "original_trajectory = pd.read_csv(os.path.join(os.sep, 'tmp','pfoptimizer','trajectory.csv'))"
   ]
  },
  {
   "cell_type": "code",
   "execution_count": null,
   "id": "510743a6",
   "metadata": {},
   "outputs": [],
   "source": [
    "original_pnl.columns"
   ]
  },
  {
   "cell_type": "code",
   "execution_count": null,
   "id": "4dcb433b",
   "metadata": {},
   "outputs": [],
   "source": [
    "start = datetime(2021,2,17)\n",
    "end = start + timedelta(days = 7)\n",
    "original_pnl['end_time'] = original_pnl['end_time'].apply(parser.parse)\n",
    "pnl = original_pnl[(original_pnl['end_time']>start)&(original_pnl['end_time']<end)]"
   ]
  },
  {
   "cell_type": "code",
   "execution_count": null,
   "id": "6c7cbe07",
   "metadata": {},
   "outputs": [],
   "source": [
    "pnl.pivot_table(index='end_time',columns='bucket',values='amtUSD').cumsum().iplot()"
   ]
  },
  {
   "cell_type": "code",
   "execution_count": null,
   "id": "69a6be2f",
   "metadata": {},
   "outputs": [],
   "source": []
  }
 ],
 "metadata": {
  "kernelspec": {
   "display_name": "Python 3 (ipykernel)",
   "language": "python",
   "name": "python3"
  },
  "language_info": {
   "codemirror_mode": {
    "name": "ipython",
    "version": 3
   },
   "file_extension": ".py",
   "mimetype": "text/x-python",
   "name": "python",
   "nbconvert_exporter": "python",
   "pygments_lexer": "ipython3",
   "version": "3.9.13"
  }
 },
 "nbformat": 4,
 "nbformat_minor": 5
}
