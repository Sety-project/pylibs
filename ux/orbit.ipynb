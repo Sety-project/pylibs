{
 "cells": [
  {
   "cell_type": "code",
   "execution_count": null,
   "id": "c8f31135",
   "metadata": {},
   "outputs": [],
   "source": [
    "#import jupyter_imports\n",
    "import scipy.stats\n",
    "from scipy.interpolate import interp1d, Akima1DInterpolator\n",
    "import cufflinks as cf\n",
    "cf.go_offline()\n",
    "cf.set_config_file(offline=False, world_readable=True)\n",
    "import math\n",
    "import numpy as np\n",
    "import pandas as pd"
   ]
  },
  {
   "cell_type": "markdown",
   "id": "938999f0",
   "metadata": {},
   "source": [
    "# copied from https://pro.amberdata.io/options/deribit/eth/current"
   ]
  },
  {
   "cell_type": "code",
   "execution_count": null,
   "id": "002ca467",
   "metadata": {},
   "outputs": [],
   "source": [
    "class Mktdata:\n",
    "    def __init__(self, P0, extrapolate: tuple[float]=None):  #(800,2500)):\n",
    "        self.P0 = P0\n",
    "        self.strikes =[1250,1300,1350,1400,1450,1500,1550,1600,1650,1700,1750,1800,1900,2000]\n",
    "        self.bid = [105.38,99.89,89.61,80.61,75.09,70.52,66.4,65.68,65.67,68.12,71.1,76.7,84.79,104.2]\n",
    "        self.ask = [116.97,107.27,94.92,87.56,79.66,72.13,68.97,66.94,68.7,70.24,74.3,81.26,100.84,115.05]\n",
    "        self.mid = [111.47,103.91,92.61,84.54,77.81,71.99,67.98,66.12,67.01,68.56,72.16,78.51,92.43,109.2]\n",
    "        if extrapolate is not None:\n",
    "            self.strikes = [extrapolate[0]] + self.strikes + [extrapolate[1]]\n",
    "            self.bid = [2*self.bid[0]-self.bid[1]] + self.bid + [self.bid[-1]]\n",
    "            self.ask = [2*self.ask[0]-self.ask[1]] + self.ask + [self.ask[-1]]\n",
    "            self.mid = [2*self.mid[0]-self.mid[1]] + self.mid + [self.mid[-1]]\n",
    "        self.smiles = {key:Akima1DInterpolator(x=self.strikes,\n",
    "                                    y=[getattr(self,key)[i]/100 for i in range(len(self.strikes))],\n",
    "                                              )#extrapolate=True)\n",
    "                       for key in ['bid','ask','mid']}\n",
    "    def IV(self,k, query):\n",
    "        return self.smiles[query](k)\n",
    "        \n",
    "mkt = Mktdata(1550,extrapolate=(800,2500))\n",
    "grid = np.linspace(1000,2000,100)\n",
    "pd.DataFrame(index=grid,\n",
    "             columns=['bid','mid','ask'],\n",
    "             data=[[mkt.IV(s,query) for query in ['bid','mid','ask']]for s in grid]).iplot(title='ETH smile bid ask')"
   ]
  },
  {
   "cell_type": "markdown",
   "id": "27e0c538",
   "metadata": {},
   "source": [
    "# generic math"
   ]
  },
  {
   "cell_type": "code",
   "execution_count": null,
   "id": "2880f11c",
   "metadata": {},
   "outputs": [],
   "source": [
    "# black-scholes\n",
    "def d1(S, K, V, T):\n",
    "    return (math.log(S / float(K)) + (V ** 2 / 2) * T) / (V * math.sqrt(T))\n",
    "def d2(S, K, V, T):\n",
    "    return d1(S, K, V, T) - (V * math.sqrt(T))\n",
    "def pv(S, K, V, T, cp):\n",
    "    if cp == 'C':\n",
    "        return S * scipy.stats.norm.cdf(d1(S, K, V, T)) - K * scipy.stats.norm.cdf(\n",
    "            d2(S, K, V, T))\n",
    "    elif cp == 'P':\n",
    "        return K * scipy.stats.norm.cdf(-d2(S, K, V, T)) - S * scipy.stats.norm.cdf(\n",
    "            -d1(S, K, V, T))\n",
    "    else:\n",
    "        return pv(S, K, V, T, 'P') + pv(S, K, V, T, 'C')\n",
    "\n",
    "# https://medium.com/@orbitmarkets/the-ultimate-solution-to-overcome-impermanent-loss-2d204b4d7c48\n",
    "def IL(Pt,P0,Pa,Pb):\n",
    "    P0ab = np.sqrt(max(min(P0,Pb),Pa))\n",
    "    Ptab = np.sqrt(max(min(Pt,Pb),Pa))\n",
    "    return (Pt/Ptab+Ptab-Pt/P0ab-P0ab)/(P0/P0ab-P0/np.sqrt(Pb)+P0ab-np.sqrt(Pa))\n"
   ]
  },
  {
   "cell_type": "markdown",
   "id": "8b4279cf",
   "metadata": {},
   "source": [
    "# cheapest overhedge"
   ]
  },
  {
   "cell_type": "code",
   "execution_count": null,
   "id": "e85d8130",
   "metadata": {},
   "outputs": [],
   "source": [
    "# orbit overhedge\n",
    "class OrbitPricer:\n",
    "    '''\n",
    "    returns cheapest overhedge (OTM calls and puts + an ATM fwd)\n",
    "    assuming:\n",
    "    - no convexity on the first and last strike\n",
    "    - fwd ~ spot, given short maturity\n",
    "    '''\n",
    "    class EKI_Param:\n",
    "        def __init__(self,barrier, strike,wedge=100):\n",
    "            self.barrier=barrier\n",
    "            self.strike=strike\n",
    "            self.wedge=wedge\n",
    "            \n",
    "    def __init__(self,Pa,Pb,market, EKI_params: EKI_Param = None):\n",
    "        # match a discretized IL second derivative everywhere, using calls\n",
    "        self.market = market\n",
    "        self.notionals = dict()\n",
    "        func = lambda strike: -IL(strike,market.P0,Pa,Pb)\n",
    "        for i in range(len(market.strikes)-2):\n",
    "            k_m = market.strikes[i]\n",
    "            k = market.strikes[i+1]\n",
    "            k_p = market.strikes[i+2]\n",
    "            self.notionals[k] = (func(k_p)-func(k))/(k_p-k) - (func(k_m)-func(k))/(k_m-k)\n",
    "\n",
    "        # add an ATM fwd to match first slope (calls have 0 delta there), and a constant\n",
    "        k0=market.strikes[0]\n",
    "        k1=market.strikes[1]\n",
    "        self.fwd_notionnal = (func(k0)-func(k1))/(k0-k1)\n",
    "        self.constant = func(k0) - self.fwd_notionnal*(k0-self.market.P0)\n",
    "        \n",
    "        # note that note IL(P0) = 0 just like OTM calls and puts and an ATM fwd. so all derivatives match.\n",
    "        \n",
    "        # now add EKI if applicable\n",
    "        if EKI_params is not None:\n",
    "            # remove a put ( -call + fwd)\n",
    "            leg_notional = 1/self.market.P0\n",
    "            leg_strike = EKI_params.barrier\n",
    "            if leg_strike in self.notionals:\n",
    "                self.notionals[leg_strike] -= leg_notional\n",
    "            else:\n",
    "                self.notionals[leg_strike] = -leg_notional\n",
    "            # add fwd\n",
    "            self.fwd_notionnal += leg_notional\n",
    "            # correct constant because fwd_notionnal is ATM\n",
    "            self.constant += (self.market.P0 - EKI_params.barrier)*leg_notional\n",
    "            \n",
    "            # remove a digiput (+ digicall - const)\n",
    "            leg_notional = (EKI_params.strike-EKI_params.barrier)/EKI_params.wedge/self.market.P0\n",
    "            leg_strike = EKI_params.barrier-EKI_params.wedge\n",
    "            if leg_strike in self.notionals:\n",
    "                self.notionals[leg_strike] += leg_notional\n",
    "            else:\n",
    "                self.notionals[leg_strike] = leg_notional\n",
    "            \n",
    "            leg_notional = -leg_notional\n",
    "            leg_strike = EKI_params.barrier\n",
    "            if leg_strike in self.notionals:\n",
    "                self.notionals[leg_strike] += leg_notional\n",
    "            else:\n",
    "                self.notionals[leg_strike] = leg_notional\n",
    "                \n",
    "            self.constant -= (EKI_params.strike-EKI_params.barrier)/self.market.P0\n",
    "        \n",
    "    def price(self,Pt,T,query='ask'):\n",
    "        # price of calls + fwd + const\n",
    "        if query=='bid': other_query = 'ask'\n",
    "        elif query=='ask': other_query = 'bid'\n",
    "        elif query=='mid': other_query = 'mid'\n",
    "        else: raise ValueError\n",
    "            \n",
    "        return sum( notional * pv(Pt, \n",
    "                                  k, \n",
    "                                  self.market.IV(k,query if notional >=0 else other_query), \n",
    "                                  T,'C') for k,notional in self.notionals.items()) \\\n",
    "                + self.fwd_notionnal*(Pt-self.market.P0) + self.constant\n",
    "    \n",
    "    def serialize(self):\n",
    "        return self.__dict__"
   ]
  },
  {
   "cell_type": "markdown",
   "id": "243b7c1b",
   "metadata": {},
   "source": [
    "# hedge payoff / residudal"
   ]
  },
  {
   "cell_type": "code",
   "execution_count": null,
   "id": "f7dea8a8",
   "metadata": {},
   "outputs": [],
   "source": [
    "(Pa,Pb,T,barrier,strike,wedge) = (1380,1680,2,1350,1550,100)\n",
    "EKI_params = OrbitPricer.EKI_Param(barrier,strike,wedge)\n",
    "pricer = OrbitPricer(Pa,Pb,market=mkt,EKI_params=EKI_params)\n",
    "df = pd.DataFrame(index=mkt.strikes, \n",
    "                  columns=['IL'],\n",
    "                  data=[IL(s,mkt.P0,Pa,Pb) for s in mkt.strikes])\n",
    "df['hedge'] = df.apply(lambda s: pricer.price(s.name,0.00001,'ask'), axis=1)\n",
    "df['net payoff'] = df['hedge'] + df['IL']"
   ]
  },
  {
   "cell_type": "code",
   "execution_count": null,
   "id": "06994e6c",
   "metadata": {
    "scrolled": true
   },
   "outputs": [],
   "source": [
    "df.iplot(title='IL, hedge, net payoff, in bps')"
   ]
  },
  {
   "cell_type": "markdown",
   "id": "3c3edfb1",
   "metadata": {},
   "source": [
    "# run"
   ]
  },
  {
   "cell_type": "code",
   "execution_count": null,
   "id": "bf05ad6b",
   "metadata": {},
   "outputs": [],
   "source": [
    "w = 200\n",
    "details = [\n",
    "    (1380,1680,2,1350,1550,w),\n",
    "    (1380,1680,2,1350,1600,w),\n",
    "    (1330,1680,2,1300,1550,w),\n",
    "    (1330,1680,2,1300,1600,w),\n",
    "    (1300,1680,2,1290,1550,w),\n",
    "    (1300,1680,2,1290,1600,w)]\n",
    "for Pa,Pb,T,barrier,strike,wedge in details:\n",
    "    EKI_params = OrbitPricer.EKI_Param(barrier,strike,wedge)\n",
    "    pricer = OrbitPricer(Pa,Pb,mkt,EKI_params)\n",
    "    price = pricer.price(mkt.P0,T/52,'ask')*100\n",
    "    max_notional = max( abs(notional*mkt.P0) for notional in pricer.notionals.values())\n",
    "    print(f'Pa={Pa},Pb={Pb},T={T}w,barrier={barrier},strike={strike},wedge={wedge}\\n -->{np.round(price,2)}%, max notional={np.round(max_notional,1)}')"
   ]
  },
  {
   "cell_type": "markdown",
   "id": "63e5696b",
   "metadata": {},
   "source": [
    "# wedge study"
   ]
  },
  {
   "cell_type": "code",
   "execution_count": null,
   "id": "f9e86faa",
   "metadata": {},
   "outputs": [],
   "source": [
    "wedges = [10,50,100,150,200,250,300,400]\n",
    "details = [(1380,1680,2,1350,1550,w) for w in wedges]\n",
    "price = []\n",
    "for Pa,Pb,T,barrier,strike,wedge in details:\n",
    "    EKI_params = OrbitPricer.EKI_Param(barrier,strike,wedge)\n",
    "    pricer = OrbitPricer(Pa,Pb,mkt,EKI_params)\n",
    "    price.append([pricer.price(mkt.P0,T/52,query)*100 for query in ['bid','mid','ask']]+\n",
    "                [max( abs(notional*mkt.P0) for notional in pricer.notionals.values())])\n",
    "pd.DataFrame(index=wedges,\n",
    "             columns=['bid','mid','ask','max_notional'],\n",
    "             data=price).iplot(secondary_y='max_notional',\n",
    "                               title='structured px per wedge. Also biggest vanilla notional to hedge')"
   ]
  },
  {
   "cell_type": "markdown",
   "id": "d3ca1df9",
   "metadata": {},
   "source": [
    "# dynamic hedging"
   ]
  },
  {
   "cell_type": "code",
   "execution_count": null,
   "id": "1140f302",
   "metadata": {},
   "outputs": [],
   "source": []
  }
 ],
 "metadata": {
  "kernelspec": {
   "display_name": "Python 3 (ipykernel)",
   "language": "python",
   "name": "python3"
  },
  "language_info": {
   "codemirror_mode": {
    "name": "ipython",
    "version": 3
   },
   "file_extension": ".py",
   "mimetype": "text/x-python",
   "name": "python",
   "nbconvert_exporter": "python",
   "pygments_lexer": "ipython3",
   "version": "3.9.16"
  }
 },
 "nbformat": 4,
 "nbformat_minor": 5
}
