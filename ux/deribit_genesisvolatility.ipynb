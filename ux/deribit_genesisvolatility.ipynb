{
 "cells": [
  {
   "cell_type": "code",
   "execution_count": 7,
   "id": "df10782e",
   "metadata": {},
   "outputs": [
    {
     "name": "stdout",
     "output_type": "stream",
     "text": [
      "{\"error\":\"E_FORBIDDEN_AUTH\",\"message\":\"Forbidden\"}\n"
     ]
    }
   ],
   "source": [
    "import requests\n",
    "import json\n",
    "\n",
    "url = \"https://app.pinkswantrading.com/graphql\"\n",
    "\n",
    "payload=\"{\\\"query\\\":\\\"query FixedMaturityAtm($exchange: ExchangeEnumType, $symbol:BTCOrETHEnumType){\\\\n  FixedMaturityAtm(exchange:$exchange, symbol: $symbol) {\\\\n    date\\\\n    atm7\\\\n    atm30\\\\n    atm60\\\\n    atm90\\\\n    atm180\\\\n    currency\\\\n  }\\\\n}\\\",\\\"variables\\\":{\\\"exchange\\\":\\\"deribit\\\",\\\"symbol\\\":\\\"BTC\\\"}}\"\n",
    "headers = {\n",
    "  'x-oracle': 'emoZ2p4sTzjI56aD7Nc0',\n",
    "  'Content-Type': 'application/json',\n",
    "  'accept': '*/*',\n",
    "  'Accept-Language': 'en-US,en;q=0.9'\n",
    "}\n",
    "\n",
    "response = requests.request(\"GET\", url, headers=headers, data=payload)\n",
    "\n",
    "print(response.text)"
   ]
  },
  {
   "cell_type": "code",
   "execution_count": null,
   "id": "349f7aee",
   "metadata": {},
   "outputs": [],
   "source": []
  }
 ],
 "metadata": {
  "kernelspec": {
   "display_name": "Python 3 (ipykernel)",
   "language": "python",
   "name": "python3"
  },
  "language_info": {
   "codemirror_mode": {
    "name": "ipython",
    "version": 3
   },
   "file_extension": ".py",
   "mimetype": "text/x-python",
   "name": "python",
   "nbconvert_exporter": "python",
   "pygments_lexer": "ipython3",
   "version": "3.9.5"
  }
 },
 "nbformat": 4,
 "nbformat_minor": 5
}
