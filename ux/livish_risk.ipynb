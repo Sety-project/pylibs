{
 "cells": [
  {
   "cell_type": "code",
   "execution_count": null,
   "id": "98ef0bac",
   "metadata": {},
   "outputs": [],
   "source": [
    "from jupyter_imports import *\n",
    "from utils.io_utils import *"
   ]
  },
  {
   "cell_type": "code",
   "execution_count": null,
   "id": "c791b513",
   "metadata": {},
   "outputs": [],
   "source": [
    "i=0 # uncomment to reset\n",
    "\n",
    "curdir = os.path.join(os.sep,'tmp','tradeexecutor')\n",
    "logdir = os.path.join(os.sep,'tmp','tradeexecutor','archive')\n",
    "if i==0:\n",
    "    already_opened = []\n",
    "    risk= pd.DataFrame()\n",
    "    i += 1\n",
    "for filename in [os.path.join(os.sep,'tmp','tradeexecutor','latest_risk_reconciliations')] + os.listdir(logdir):\n",
    "    if 'risk_reconciliations.json' in filename and filename not in already_opened:\n",
    "        with open(os.path.join(os.sep,logdir,filename),'r') as fp:\n",
    "            new_risk = pd.DataFrame(json.load(fp))\n",
    "            new_risk['delta_timestamp'] = (new_risk['delta_timestamp']/1000).apply(datetime.utcfromtimestamp)\n",
    "        risk = pd.concat([risk ,new_risk])\n",
    "        already_opened += [filename]"
   ]
  },
  {
   "cell_type": "code",
   "execution_count": null,
   "id": "3cf4a135",
   "metadata": {},
   "outputs": [],
   "source": [
    "risk['coin'] = risk['symbol'].apply(lambda f: f.replace('/USD','').replace(':USD',''))"
   ]
  },
  {
   "cell_type": "code",
   "execution_count": null,
   "id": "7b981778",
   "metadata": {},
   "outputs": [],
   "source": [
    "pv = pd.DataFrame(risk.groupby(by='delta_timestamp')['pv'].mean()).iplot()"
   ]
  },
  {
   "cell_type": "code",
   "execution_count": null,
   "id": "c6bdd7c0",
   "metadata": {},
   "outputs": [],
   "source": [
    "margins = pd.DataFrame(risk.groupby(by='delta_timestamp')[['estimated_IM','actual_IM']].mean()).iplot()"
   ]
  },
  {
   "cell_type": "code",
   "execution_count": null,
   "id": "ea44d4ed",
   "metadata": {},
   "outputs": [],
   "source": [
    "cash_symbols = [symbol for symbol in risk['symbol'].unique() if ':' not in symbol]\n",
    "carry_delta = pd.DataFrame(risk[risk['symbol'].isin(cash_symbols)].groupby(by='delta_timestamp')['delta'].sum()).iplot()"
   ]
  },
  {
   "cell_type": "code",
   "execution_count": null,
   "id": "589ae2ce",
   "metadata": {},
   "outputs": [],
   "source": [
    "netDelta = risk.pivot_table(index='delta_timestamp',columns='coin',values='netDelta',aggfunc=np.mean).iplot()"
   ]
  },
  {
   "cell_type": "code",
   "execution_count": null,
   "id": "93ab79a1",
   "metadata": {},
   "outputs": [],
   "source": [
    "fig = make_subplots(rows=len(parsed), cols=1,\n",
    "                    subplot_titles=list(parsed.keys()),\n",
    "                    shared_xaxes=True,\n",
    "                    vertical_spacing=0.02)\n",
    "\n",
    "for i,(name,data) in enumerate(parsed.items()):\n",
    "    for mode in data:\n",
    "        fig.append_trace(go.Scatter(x=data[mode].index,y=data[mode].values,name=mode),\n",
    "            row=i+1, col=1)\n",
    "\n",
    "fig.update_layout(height=1000, width=1000, title_text=\"live metrics\")\n",
    "fig.show()"
   ]
  },
  {
   "cell_type": "code",
   "execution_count": null,
   "id": "3646069f",
   "metadata": {},
   "outputs": [],
   "source": []
  }
 ],
 "metadata": {
  "kernelspec": {
   "display_name": "Python 3 (ipykernel)",
   "language": "python",
   "name": "python3"
  },
  "language_info": {
   "codemirror_mode": {
    "name": "ipython",
    "version": 3
   },
   "file_extension": ".py",
   "mimetype": "text/x-python",
   "name": "python",
   "nbconvert_exporter": "python",
   "pygments_lexer": "ipython3",
   "version": "3.9.13"
  }
 },
 "nbformat": 4,
 "nbformat_minor": 5
}
