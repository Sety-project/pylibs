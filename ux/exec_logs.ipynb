{
 "cells": [
  {
   "cell_type": "code",
   "execution_count": null,
   "id": "c6d6cb62",
   "metadata": {},
   "outputs": [],
   "source": [
    "from jupyter_imports import *"
   ]
  },
  {
   "cell_type": "code",
   "execution_count": null,
   "id": "19491bd1",
   "metadata": {},
   "outputs": [],
   "source": [
    "from riskpnl.post_trade import batch_summarize_exec_logs\n",
    "\n",
    "start = datetime(2022,6,23)#,tzinfo=timezone.utc)\n",
    "log_path = os.path.join(os.sep, 'tmp','prod','tradeexecutor')\n",
    "log_file = os.path.join(os.sep,'tmp','prod','tradeexecutor','all_by_symbol.csv')\n",
    "batch_summarize_exec_logs(log_path,start=start,add_history_context=False)\n",
    "original_weights = pd.read_csv(log_file).sort_values(by='log_time')\n",
    "original_weights['log_time'] = original_weights['log_time'].apply(parser.parse)"
   ]
  },
  {
   "cell_type": "code",
   "execution_count": null,
   "id": "079b2132",
   "metadata": {},
   "outputs": [],
   "source": [
    "weights = original_weights[original_weights['log_time']>start.replace(tzinfo=timezone.utc)]\n",
    "\n",
    "weights['total_bps'] = weights['slippage_bps'] + weights['fee']/weights['filledUSD']*10000\n",
    "weights['fee_USD'] = weights['fee']\n",
    "weights['slippage_USD'] = weights['slippage_bps']*weights['filledUSD']/10000\n",
    "weights['total_USD'] = weights['total_bps']*weights['filledUSD']/10000"
   ]
  },
  {
   "cell_type": "markdown",
   "id": "78bda957",
   "metadata": {},
   "source": [
    "### cumulative slippage and fees"
   ]
  },
  {
   "cell_type": "code",
   "execution_count": null,
   "id": "9387d736",
   "metadata": {},
   "outputs": [],
   "source": [
    "weights"
   ]
  },
  {
   "cell_type": "code",
   "execution_count": null,
   "id": "5aa91056",
   "metadata": {},
   "outputs": [],
   "source": [
    "trackrecord = weights[weights['index']=='average'].pivot_table(index='log_time',values=['fee_USD','slippage_USD','total_USD'],aggfunc=np.mean).cumsum()"
   ]
  },
  {
   "cell_type": "code",
   "execution_count": null,
   "id": "a423f39a",
   "metadata": {
    "scrolled": false
   },
   "outputs": [],
   "source": [
    "trackrecord.iplot()"
   ]
  },
  {
   "cell_type": "markdown",
   "id": "8132e33d",
   "metadata": {},
   "source": [
    "### slippage distribution"
   ]
  },
  {
   "cell_type": "code",
   "execution_count": null,
   "id": "e6b82607",
   "metadata": {},
   "outputs": [],
   "source": [
    "(weights.loc[weights['index']=='average','total_bps']).hist(bins=50,figsize=(20,10))"
   ]
  },
  {
   "cell_type": "code",
   "execution_count": null,
   "id": "41d08d4b",
   "metadata": {},
   "outputs": [],
   "source": []
  },
  {
   "cell_type": "code",
   "execution_count": null,
   "id": "4fcb55e4",
   "metadata": {},
   "outputs": [],
   "source": []
  },
  {
   "cell_type": "code",
   "execution_count": null,
   "id": "d3931f06",
   "metadata": {},
   "outputs": [],
   "source": []
  }
 ],
 "metadata": {
  "kernelspec": {
   "display_name": "Python 3 (ipykernel)",
   "language": "python",
   "name": "python3"
  },
  "language_info": {
   "codemirror_mode": {
    "name": "ipython",
    "version": 3
   },
   "file_extension": ".py",
   "mimetype": "text/x-python",
   "name": "python",
   "nbconvert_exporter": "python",
   "pygments_lexer": "ipython3",
   "version": "3.9.13"
  }
 },
 "nbformat": 4,
 "nbformat_minor": 5
}
