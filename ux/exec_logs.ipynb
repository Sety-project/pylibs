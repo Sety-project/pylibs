{
 "cells": [
  {
   "cell_type": "code",
   "execution_count": 1,
   "id": "c6d6cb62",
   "metadata": {},
   "outputs": [
    {
     "data": {
      "text/html": [
       "        <script type=\"text/javascript\">\n",
       "        window.PlotlyConfig = {MathJaxConfig: 'local'};\n",
       "        if (window.MathJax && window.MathJax.Hub && window.MathJax.Hub.Config) {window.MathJax.Hub.Config({SVG: {font: \"STIX-Web\"}});}\n",
       "        if (typeof require !== 'undefined') {\n",
       "        require.undef(\"plotly\");\n",
       "        requirejs.config({\n",
       "            paths: {\n",
       "                'plotly': ['https://cdn.plot.ly/plotly-2.12.1.min']\n",
       "            }\n",
       "        });\n",
       "        require(['plotly'], function(Plotly) {\n",
       "            window._Plotly = Plotly;\n",
       "        });\n",
       "        }\n",
       "        </script>\n",
       "        "
      ]
     },
     "metadata": {},
     "output_type": "display_data"
    }
   ],
   "source": [
    "from jupyter_imports import *\n",
    "from copy import deepcopy"
   ]
  },
  {
   "cell_type": "code",
   "execution_count": 2,
   "id": "7cf26116",
   "metadata": {},
   "outputs": [
    {
     "data": {
      "text/plain": [
       "'moved 0 logs to unreadable'"
      ]
     },
     "execution_count": 2,
     "metadata": {},
     "output_type": "execute_result"
    }
   ],
   "source": [
    "# run only once\n",
    "from utils.MyLogger import ExecutionLogger # use 'prod' for remote after cache_tmp\n",
    "start = datetime(2022,7,10,0)#,tzinfo=timezone.utc)\n",
    "dirname = os.path.join(os.sep, 'tmp','prod','tradeexecutor')#,'prod')\n",
    "ExecutionLogger.batch_summarize_exec_logs(dirname=dirname,start=start,add_history_context=False,rebuild=True)"
   ]
  },
  {
   "cell_type": "code",
   "execution_count": 3,
   "id": "0382975d",
   "metadata": {
    "scrolled": true
   },
   "outputs": [],
   "source": [
    "files = ['all_by_clientOrderId','all_by_coin','all_by_symbol','all_order_manager','all_parameters']\n",
    "original = {file:pd.read_csv(os.path.join(os.sep, dirname,f'{file}.csv'),index_col=0) for file in files}"
   ]
  },
  {
   "cell_type": "code",
   "execution_count": 4,
   "id": "a05605c0",
   "metadata": {
    "scrolled": true
   },
   "outputs": [],
   "source": [
    "cmap = cm.get_cmap('Spectral')\n",
    "#fig, ax = plt.subplots(1)"
   ]
  },
  {
   "cell_type": "markdown",
   "id": "033ab190",
   "metadata": {},
   "source": [
    "## parameters for reference"
   ]
  },
  {
   "cell_type": "code",
   "execution_count": 5,
   "id": "c6c6d402",
   "metadata": {},
   "outputs": [
    {
     "data": {
      "text/plain": [
       "{1659486333341.0798: 0,\n",
       " 1659486859577.1611: 1,\n",
       " 1659463742659.677: 2,\n",
       " 1659466102473.86: 3,\n",
       " 1659463482731.886: 4}"
      ]
     },
     "execution_count": 5,
     "metadata": {},
     "output_type": "execute_result"
    }
   ],
   "source": [
    "all_parameters = original['all_parameters']\n",
    "all_parameters['hash'] = all_parameters['timestamp'].apply(lambda x: pd.util.hash_pandas_object(all_parameters.groupby('timestamp').get_group(x).astype(str)).sum())\n",
    "all_parameters['param_index'] = all_parameters['hash'].apply(lambda h: list(all_parameters['hash'].unique()).index(h))\n",
    "all_parameters.drop(columns=['hash'],inplace=True)\n",
    "param_map = all_parameters.set_index('timestamp')['param_index'].to_dict()\n",
    "param_map"
   ]
  },
  {
   "cell_type": "code",
   "execution_count": null,
   "id": "7dc95b4f",
   "metadata": {},
   "outputs": [],
   "source": []
  },
  {
   "cell_type": "code",
   "execution_count": 7,
   "id": "abc52d0d",
   "metadata": {},
   "outputs": [],
   "source": [
    "indexed = deepcopy(original)\n",
    "#for df in indexed.values():\n",
    "#    df['param_index'] = df['timestamp'].apply(lambda x:param_map[x])\n",
    "#colors = matplotlib.cm.rainbow(np.linspace(0, 1, len(all_parameters['param_index'].unique())))"
   ]
  },
  {
   "cell_type": "markdown",
   "id": "78bda957",
   "metadata": {},
   "source": [
    "### slippage, fees in bps. filled in USD"
   ]
  },
  {
   "cell_type": "code",
   "execution_count": 8,
   "id": "5183c446",
   "metadata": {},
   "outputs": [
    {
     "name": "stdout",
     "output_type": "stream",
     "text": [
      "       time_to_execute  slippage_bps  fee  filledUSD\n",
      "count     3.000000e+00      4.000000  4.0   4.000000\n",
      "mean      7.708493e+06     13.909238  0.0   3.960150\n",
      "std       1.334470e+07     65.658324  0.0   4.102115\n",
      "min       2.200090e+02    -41.508973  0.0  -1.062500\n",
      "25%       3.930213e+03    -31.613676  0.0   2.615725\n",
      "50%       7.640417e+03     -3.139055  0.0   3.960150\n",
      "75%       1.156263e+07     42.383859  0.0   5.304575\n",
      "max       2.311762e+07    103.424034  0.0   8.982800\n"
     ]
    },
    {
     "data": {
      "text/html": [
       "<div>\n",
       "<style scoped>\n",
       "    .dataframe tbody tr th:only-of-type {\n",
       "        vertical-align: middle;\n",
       "    }\n",
       "\n",
       "    .dataframe tbody tr th {\n",
       "        vertical-align: top;\n",
       "    }\n",
       "\n",
       "    .dataframe thead th {\n",
       "        text-align: right;\n",
       "    }\n",
       "</style>\n",
       "<table border=\"1\" class=\"dataframe\">\n",
       "  <thead>\n",
       "    <tr style=\"text-align: right;\">\n",
       "      <th></th>\n",
       "      <th>index</th>\n",
       "      <th>time_to_execute</th>\n",
       "      <th>slippage_bps</th>\n",
       "      <th>fee</th>\n",
       "      <th>filledUSD</th>\n",
       "      <th>coin</th>\n",
       "    </tr>\n",
       "  </thead>\n",
       "  <tbody>\n",
       "    <tr>\n",
       "      <th>0</th>\n",
       "      <td>AAVE/USD</td>\n",
       "      <td>2.311762e+07</td>\n",
       "      <td>103.424034</td>\n",
       "      <td>0.0</td>\n",
       "      <td>3.8418</td>\n",
       "      <td>AAVE</td>\n",
       "    </tr>\n",
       "    <tr>\n",
       "      <th>1</th>\n",
       "      <td>MKR/USD:USD</td>\n",
       "      <td>7.640417e+03</td>\n",
       "      <td>-28.315243</td>\n",
       "      <td>0.0</td>\n",
       "      <td>-1.0625</td>\n",
       "      <td>MKR</td>\n",
       "    </tr>\n",
       "    <tr>\n",
       "      <th>2</th>\n",
       "      <td>UNI/USD</td>\n",
       "      <td>2.200090e+02</td>\n",
       "      <td>-41.508973</td>\n",
       "      <td>0.0</td>\n",
       "      <td>4.0785</td>\n",
       "      <td>UNI</td>\n",
       "    </tr>\n",
       "    <tr>\n",
       "      <th>3</th>\n",
       "      <td>average</td>\n",
       "      <td>NaN</td>\n",
       "      <td>22.037133</td>\n",
       "      <td>0.0</td>\n",
       "      <td>8.9828</td>\n",
       "      <td>NaN</td>\n",
       "    </tr>\n",
       "  </tbody>\n",
       "</table>\n",
       "</div>"
      ],
      "text/plain": [
       "         index  time_to_execute  slippage_bps  fee  filledUSD  coin\n",
       "0     AAVE/USD     2.311762e+07    103.424034  0.0     3.8418  AAVE\n",
       "1  MKR/USD:USD     7.640417e+03    -28.315243  0.0    -1.0625   MKR\n",
       "2      UNI/USD     2.200090e+02    -41.508973  0.0     4.0785   UNI\n",
       "3      average              NaN     22.037133  0.0     8.9828   NaN"
      ]
     },
     "execution_count": 8,
     "metadata": {},
     "output_type": "execute_result"
    }
   ],
   "source": [
    "print(indexed['all_by_symbol'].describe())\n",
    "indexed['all_by_symbol']"
   ]
  },
  {
   "cell_type": "markdown",
   "id": "8132e33d",
   "metadata": {},
   "source": [
    "### slippage distribution"
   ]
  },
  {
   "cell_type": "code",
   "execution_count": 9,
   "id": "a82fef1b",
   "metadata": {},
   "outputs": [
    {
     "name": "stdout",
     "output_type": "stream",
     "text": [
      "       premium_vs_inception_bps  perleg_fee_bps  perleg_filled_USD\n",
      "count                  4.000000             4.0           4.000000\n",
      "mean                  27.818476             0.0           2.245700\n",
      "std                  131.316647             0.0           1.646271\n",
      "min                  -83.017947             0.0           0.531250\n",
      "25%                  -63.227351             0.0           1.573488\n",
      "50%                   -6.278110             0.0           1.980075\n",
      "75%                   84.767717             0.0           2.652287\n",
      "max                  206.848069             0.0           4.491400\n"
     ]
    },
    {
     "data": {
      "text/html": [
       "<div>\n",
       "<style scoped>\n",
       "    .dataframe tbody tr th:only-of-type {\n",
       "        vertical-align: middle;\n",
       "    }\n",
       "\n",
       "    .dataframe tbody tr th {\n",
       "        vertical-align: top;\n",
       "    }\n",
       "\n",
       "    .dataframe thead th {\n",
       "        text-align: right;\n",
       "    }\n",
       "</style>\n",
       "<table border=\"1\" class=\"dataframe\">\n",
       "  <thead>\n",
       "    <tr style=\"text-align: right;\">\n",
       "      <th></th>\n",
       "      <th>index</th>\n",
       "      <th>premium_vs_inception_bps</th>\n",
       "      <th>perleg_fee_bps</th>\n",
       "      <th>perleg_filled_USD</th>\n",
       "    </tr>\n",
       "  </thead>\n",
       "  <tbody>\n",
       "    <tr>\n",
       "      <th>0</th>\n",
       "      <td>AAVE</td>\n",
       "      <td>206.848069</td>\n",
       "      <td>0.0</td>\n",
       "      <td>1.92090</td>\n",
       "    </tr>\n",
       "    <tr>\n",
       "      <th>1</th>\n",
       "      <td>MKR</td>\n",
       "      <td>-56.630486</td>\n",
       "      <td>0.0</td>\n",
       "      <td>0.53125</td>\n",
       "    </tr>\n",
       "    <tr>\n",
       "      <th>2</th>\n",
       "      <td>UNI</td>\n",
       "      <td>-83.017947</td>\n",
       "      <td>0.0</td>\n",
       "      <td>2.03925</td>\n",
       "    </tr>\n",
       "    <tr>\n",
       "      <th>3</th>\n",
       "      <td>average</td>\n",
       "      <td>44.074267</td>\n",
       "      <td>0.0</td>\n",
       "      <td>4.49140</td>\n",
       "    </tr>\n",
       "  </tbody>\n",
       "</table>\n",
       "</div>"
      ],
      "text/plain": [
       "     index  premium_vs_inception_bps  perleg_fee_bps  perleg_filled_USD\n",
       "0     AAVE                206.848069             0.0            1.92090\n",
       "1      MKR                -56.630486             0.0            0.53125\n",
       "2      UNI                -83.017947             0.0            2.03925\n",
       "3  average                 44.074267             0.0            4.49140"
      ]
     },
     "execution_count": 9,
     "metadata": {},
     "output_type": "execute_result"
    }
   ],
   "source": [
    "print(indexed['all_by_coin'].describe())\n",
    "indexed['all_by_coin']"
   ]
  },
  {
   "cell_type": "markdown",
   "id": "31a06908",
   "metadata": {},
   "source": [
    "# tick to ack"
   ]
  },
  {
   "cell_type": "code",
   "execution_count": 10,
   "id": "b990053f",
   "metadata": {},
   "outputs": [
    {
     "data": {
      "text/html": [
       "<div>\n",
       "<style scoped>\n",
       "    .dataframe tbody tr th:only-of-type {\n",
       "        vertical-align: middle;\n",
       "    }\n",
       "\n",
       "    .dataframe tbody tr th {\n",
       "        vertical-align: top;\n",
       "    }\n",
       "\n",
       "    .dataframe thead th {\n",
       "        text-align: right;\n",
       "    }\n",
       "</style>\n",
       "<table border=\"1\" class=\"dataframe\">\n",
       "  <thead>\n",
       "    <tr style=\"text-align: right;\">\n",
       "      <th></th>\n",
       "      <th>index</th>\n",
       "      <th>symbol</th>\n",
       "      <th>coin</th>\n",
       "      <th>order_ref</th>\n",
       "      <th>pending_local</th>\n",
       "      <th>pending_to_ack_local</th>\n",
       "      <th>mid_at_pending</th>\n",
       "      <th>amount</th>\n",
       "      <th>filled</th>\n",
       "      <th>price</th>\n",
       "      <th>fee</th>\n",
       "      <th>last_fill_local</th>\n",
       "    </tr>\n",
       "  </thead>\n",
       "  <tbody>\n",
       "    <tr>\n",
       "      <th>0</th>\n",
       "      <td>chase_AAVE/USD_1659486816581</td>\n",
       "      <td>AAVE/USD</td>\n",
       "      <td>AAVE</td>\n",
       "      <td>93.750</td>\n",
       "      <td>1.659487e+12</td>\n",
       "      <td>697.710938</td>\n",
       "      <td>93.7500</td>\n",
       "      <td>0.010</td>\n",
       "      <td>0.010</td>\n",
       "      <td>93.770</td>\n",
       "      <td>0.0</td>\n",
       "      <td>1.659487e+12</td>\n",
       "    </tr>\n",
       "    <tr>\n",
       "      <th>1</th>\n",
       "      <td>new_AAVE/USD_1659463703872</td>\n",
       "      <td>AAVE/USD</td>\n",
       "      <td>AAVE</td>\n",
       "      <td>94.390</td>\n",
       "      <td>1.659464e+12</td>\n",
       "      <td>121.558838</td>\n",
       "      <td>97.0800</td>\n",
       "      <td>0.020</td>\n",
       "      <td>0.020</td>\n",
       "      <td>97.090</td>\n",
       "      <td>0.0</td>\n",
       "      <td>1.659464e+12</td>\n",
       "    </tr>\n",
       "    <tr>\n",
       "      <th>2</th>\n",
       "      <td>new_AAVE/USD_1659466080112</td>\n",
       "      <td>AAVE/USD</td>\n",
       "      <td>AAVE</td>\n",
       "      <td>97.800</td>\n",
       "      <td>1.659466e+12</td>\n",
       "      <td>124.056885</td>\n",
       "      <td>96.2050</td>\n",
       "      <td>0.010</td>\n",
       "      <td>0.010</td>\n",
       "      <td>96.230</td>\n",
       "      <td>0.0</td>\n",
       "      <td>1.659466e+12</td>\n",
       "    </tr>\n",
       "    <tr>\n",
       "      <th>3</th>\n",
       "      <td>new_MKR/USD:USD_1659463437098</td>\n",
       "      <td>MKR/USD:USD</td>\n",
       "      <td>MKR</td>\n",
       "      <td>1059.500</td>\n",
       "      <td>1.659463e+12</td>\n",
       "      <td>112.476318</td>\n",
       "      <td>1061.7500</td>\n",
       "      <td>-0.001</td>\n",
       "      <td>-0.001</td>\n",
       "      <td>1062.500</td>\n",
       "      <td>0.0</td>\n",
       "      <td>1.659463e+12</td>\n",
       "    </tr>\n",
       "    <tr>\n",
       "      <th>4</th>\n",
       "      <td>new_UNI/USD_1659486289959</td>\n",
       "      <td>UNI/USD</td>\n",
       "      <td>UNI</td>\n",
       "      <td>8.191</td>\n",
       "      <td>1.659486e+12</td>\n",
       "      <td>126.343018</td>\n",
       "      <td>8.1565</td>\n",
       "      <td>0.500</td>\n",
       "      <td>0.500</td>\n",
       "      <td>8.157</td>\n",
       "      <td>0.0</td>\n",
       "      <td>1.659486e+12</td>\n",
       "    </tr>\n",
       "  </tbody>\n",
       "</table>\n",
       "</div>"
      ],
      "text/plain": [
       "                           index       symbol  coin  order_ref  pending_local  \\\n",
       "0   chase_AAVE/USD_1659486816581     AAVE/USD  AAVE     93.750   1.659487e+12   \n",
       "1     new_AAVE/USD_1659463703872     AAVE/USD  AAVE     94.390   1.659464e+12   \n",
       "2     new_AAVE/USD_1659466080112     AAVE/USD  AAVE     97.800   1.659466e+12   \n",
       "3  new_MKR/USD:USD_1659463437098  MKR/USD:USD   MKR   1059.500   1.659463e+12   \n",
       "4      new_UNI/USD_1659486289959      UNI/USD   UNI      8.191   1.659486e+12   \n",
       "\n",
       "   pending_to_ack_local  mid_at_pending  amount  filled     price  fee  \\\n",
       "0            697.710938         93.7500   0.010   0.010    93.770  0.0   \n",
       "1            121.558838         97.0800   0.020   0.020    97.090  0.0   \n",
       "2            124.056885         96.2050   0.010   0.010    96.230  0.0   \n",
       "3            112.476318       1061.7500  -0.001  -0.001  1062.500  0.0   \n",
       "4            126.343018          8.1565   0.500   0.500     8.157  0.0   \n",
       "\n",
       "   last_fill_local  \n",
       "0     1.659487e+12  \n",
       "1     1.659464e+12  \n",
       "2     1.659466e+12  \n",
       "3     1.659463e+12  \n",
       "4     1.659486e+12  "
      ]
     },
     "execution_count": 10,
     "metadata": {},
     "output_type": "execute_result"
    },
    {
     "data": {
      "image/png": "[encoded data removed]",
      "text/plain": [
       "<Figure size 720x360 with 1 Axes>"
      ]
     },
     "metadata": {
      "needs_background": "light"
     },
     "output_type": "display_data"
    }
   ],
   "source": [
    "by_clientOrderId = indexed['all_by_clientOrderId']\n",
    "tick_to_order_local = by_clientOrderId[['pending_to_ack_local']]\n",
    "tick_to_order_local.hist(bins=50,figsize=(10,5))\n",
    "tick_to_order_local.describe()\n",
    "by_clientOrderId"
   ]
  },
  {
   "cell_type": "markdown",
   "id": "8a833f6e",
   "metadata": {},
   "source": [
    "# remote vs local (~ round trip)"
   ]
  },
  {
   "cell_type": "code",
   "execution_count": 12,
   "id": "d3931f06",
   "metadata": {},
   "outputs": [
    {
     "data": {
      "text/html": [
       "<div>\n",
       "<style scoped>\n",
       "    .dataframe tbody tr th:only-of-type {\n",
       "        vertical-align: middle;\n",
       "    }\n",
       "\n",
       "    .dataframe tbody tr th {\n",
       "        vertical-align: top;\n",
       "    }\n",
       "\n",
       "    .dataframe thead th {\n",
       "        text-align: right;\n",
       "    }\n",
       "</style>\n",
       "<table border=\"1\" class=\"dataframe\">\n",
       "  <thead>\n",
       "    <tr style=\"text-align: right;\">\n",
       "      <th></th>\n",
       "      <th>round_trip</th>\n",
       "    </tr>\n",
       "  </thead>\n",
       "  <tbody>\n",
       "    <tr>\n",
       "      <th>count</th>\n",
       "      <td>32.000000</td>\n",
       "    </tr>\n",
       "    <tr>\n",
       "      <th>mean</th>\n",
       "      <td>76.107361</td>\n",
       "    </tr>\n",
       "    <tr>\n",
       "      <th>std</th>\n",
       "      <td>196.300370</td>\n",
       "    </tr>\n",
       "    <tr>\n",
       "      <th>min</th>\n",
       "      <td>0.030273</td>\n",
       "    </tr>\n",
       "    <tr>\n",
       "      <th>25%</th>\n",
       "      <td>30.350586</td>\n",
       "    </tr>\n",
       "    <tr>\n",
       "      <th>50%</th>\n",
       "      <td>38.876953</td>\n",
       "    </tr>\n",
       "    <tr>\n",
       "      <th>75%</th>\n",
       "      <td>58.698120</td>\n",
       "    </tr>\n",
       "    <tr>\n",
       "      <th>max</th>\n",
       "      <td>1141.642090</td>\n",
       "    </tr>\n",
       "  </tbody>\n",
       "</table>\n",
       "</div>"
      ],
      "text/plain": [
       "        round_trip\n",
       "count    32.000000\n",
       "mean     76.107361\n",
       "std     196.300370\n",
       "min       0.030273\n",
       "25%      30.350586\n",
       "50%      38.876953\n",
       "75%      58.698120\n",
       "max    1141.642090"
      ]
     },
     "execution_count": 12,
     "metadata": {},
     "output_type": "execute_result"
    },
    {
     "data": {
      "image/png": "[encoded data removed]",
      "text/plain": [
       "<Figure size 1440x720 with 1 Axes>"
      ]
     },
     "metadata": {
      "needs_background": "light"
     },
     "output_type": "display_data"
    }
   ],
   "source": [
    "round_trip = pd.DataFrame(columns=['round_trip'], data = 2*(indexed['all_order_manager']['timestamp']-indexed['all_order_manager']['remote_timestamp']))\n",
    "round_trip.hist(bins=50,figsize=(20,10))\n",
    "round_trip.describe()\n",
    "#indexed['all_order_manager'][['timestamp','remote_timestamp']] - indexed['all_parameters']['timestamp'].squeeze()"
   ]
  },
  {
   "cell_type": "code",
   "execution_count": null,
   "id": "c8c5a68c",
   "metadata": {},
   "outputs": [],
   "source": []
  }
 ],
 "metadata": {
  "kernelspec": {
   "display_name": "Python 3 (ipykernel)",
   "language": "python",
   "name": "python3"
  },
  "language_info": {
   "codemirror_mode": {
    "name": "ipython",
    "version": 3
   },
   "file_extension": ".py",
   "mimetype": "text/x-python",
   "name": "python",
   "nbconvert_exporter": "python",
   "pygments_lexer": "ipython3",
   "version": "3.9.13"
  }
 },
 "nbformat": 4,
 "nbformat_minor": 5
}
