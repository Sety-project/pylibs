{
 "cells": [
  {
   "cell_type": "code",
   "execution_count": null,
   "id": "c6d6cb62",
   "metadata": {},
   "outputs": [],
   "source": [
    "from jupyter_imports import *"
   ]
  },
  {
   "cell_type": "code",
   "execution_count": null,
   "id": "19491bd1",
   "metadata": {},
   "outputs": [],
   "source": [
    "from riskpnl.post_trade import batch_summarize_exec_logs # use 'prod' for remote after cache_tmp\n",
    "\n",
    "dirname = os.path.join(os.sep, 'tmp','tradeexecutor')#,'prod')\n",
    "start = datetime(2022,6,20)#,tzinfo=timezone.utc)\n",
    "log_file = os.path.join(os.sep, dirname,'all_by_symbol.csv')\n",
    "batch_summarize_exec_logs(dirname,start=start,add_history_context=False,rebuild=True)\n",
    "original_weights = pd.read_csv(log_file).sort_values(by='log_time')\n",
    "original_weights['log_time'] = original_weights['log_time'].apply(parser.parse)"
   ]
  },
  {
   "cell_type": "code",
   "execution_count": null,
   "id": "079b2132",
   "metadata": {},
   "outputs": [],
   "source": [
    "weights = original_weights[original_weights['log_time']>start.replace(tzinfo=timezone.utc)]\n",
    "\n",
    "weights['total_bps'] = weights['slippage_bps'] + weights['fee']\n",
    "weights['fee_USD'] = weights['fee']*weights['filledUSD'].apply(np.abs)/10000 # in bps for by_symbol, in USD for by_clientorderid :(\n",
    "weights['slippage_USD'] = weights['slippage_bps']*weights['filledUSD'].apply(np.abs)/10000\n",
    "weights['total_USD'] = weights['total_bps']*weights['filledUSD'].apply(np.abs)/10000"
   ]
  },
  {
   "cell_type": "markdown",
   "id": "78bda957",
   "metadata": {},
   "source": [
    "### cumulative slippage and fees"
   ]
  },
  {
   "cell_type": "code",
   "execution_count": null,
   "id": "9387d736",
   "metadata": {},
   "outputs": [],
   "source": [
    "weights"
   ]
  },
  {
   "cell_type": "code",
   "execution_count": null,
   "id": "5aa91056",
   "metadata": {},
   "outputs": [],
   "source": [
    "trackrecord = weights[weights['index']=='average'].pivot_table(index='log_time',values=['fee_USD','slippage_USD','total_USD','filledUSD'],aggfunc=np.mean).cumsum()"
   ]
  },
  {
   "cell_type": "code",
   "execution_count": null,
   "id": "a423f39a",
   "metadata": {
    "scrolled": false
   },
   "outputs": [],
   "source": [
    "trackrecord.iplot(secondary_y='filledUSD')"
   ]
  },
  {
   "cell_type": "markdown",
   "id": "8132e33d",
   "metadata": {},
   "source": [
    "### slippage distribution"
   ]
  },
  {
   "cell_type": "code",
   "execution_count": null,
   "id": "e6b82607",
   "metadata": {},
   "outputs": [],
   "source": [
    "(weights.loc[weights['index']=='average','total_bps']).hist(bins=50,figsize=(20,10))"
   ]
  },
  {
   "cell_type": "code",
   "execution_count": null,
   "id": "41d08d4b",
   "metadata": {},
   "outputs": [],
   "source": [
    "original_coin = pd.read_csv(os.path.join(os.sep, dirname,'all_by_coin.csv')).sort_values(by='log_time')"
   ]
  },
  {
   "cell_type": "code",
   "execution_count": null,
   "id": "4aaf5a9b",
   "metadata": {},
   "outputs": [],
   "source": [
    "original_coin"
   ]
  },
  {
   "cell_type": "code",
   "execution_count": null,
   "id": "f36e252d",
   "metadata": {},
   "outputs": [],
   "source": [
    "trackrecord = original_coin[original_coin['index']=='average'].pivot_table(index='log_time',values=['perleg_fee_bps','perleg_filled_USD','premium_vs_inception_bps'],aggfunc=np.mean)\n",
    "trackrecord.iplot(secondary_y='perleg_filled_USD')"
   ]
  },
  {
   "cell_type": "markdown",
   "id": "4997280f",
   "metadata": {},
   "source": [
    "# latency"
   ]
  },
  {
   "cell_type": "code",
   "execution_count": null,
   "id": "4d694958",
   "metadata": {},
   "outputs": [],
   "source": [
    "original_clientOrderId = pd.read_csv(os.path.join(os.sep, dirname,'all_by_clientOrderId.csv')).sort_values(by='log_time')\n",
    "original_data = pd.read_csv(os.path.join(os.sep, dirname,'all_data.csv')).sort_values(by='log_time')"
   ]
  },
  {
   "cell_type": "code",
   "execution_count": null,
   "id": "d3931f06",
   "metadata": {},
   "outputs": [],
   "source": [
    "df = original_clientOrderId[['tick_to_order_local']]\n",
    "df['local_lag'] = original_data['timestamp']-original_data['remote_timestamp']\n",
    "df.hist(bins=50,figsize=(20,10))\n",
    "df.describe()"
   ]
  },
  {
   "cell_type": "code",
   "execution_count": null,
   "id": "401e2147",
   "metadata": {},
   "outputs": [],
   "source": []
  }
 ],
 "metadata": {
  "kernelspec": {
   "display_name": "Python 3 (ipykernel)",
   "language": "python",
   "name": "python3"
  },
  "language_info": {
   "codemirror_mode": {
    "name": "ipython",
    "version": 3
   },
   "file_extension": ".py",
   "mimetype": "text/x-python",
   "name": "python",
   "nbconvert_exporter": "python",
   "pygments_lexer": "ipython3",
   "version": "3.9.13"
  }
 },
 "nbformat": 4,
 "nbformat_minor": 5
}
