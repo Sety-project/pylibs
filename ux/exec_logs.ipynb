{
 "cells": [
  {
   "cell_type": "code",
   "execution_count": 1,
   "id": "c6d6cb62",
   "metadata": {},
   "outputs": [
    {
     "data": {
      "text/html": [
       "        <script type=\"text/javascript\">\n",
       "        window.PlotlyConfig = {MathJaxConfig: 'local'};\n",
       "        if (window.MathJax && window.MathJax.Hub && window.MathJax.Hub.Config) {window.MathJax.Hub.Config({SVG: {font: \"STIX-Web\"}});}\n",
       "        if (typeof require !== 'undefined') {\n",
       "        require.undef(\"plotly\");\n",
       "        requirejs.config({\n",
       "            paths: {\n",
       "                'plotly': ['https://cdn.plot.ly/plotly-2.12.1.min']\n",
       "            }\n",
       "        });\n",
       "        require(['plotly'], function(Plotly) {\n",
       "            window._Plotly = Plotly;\n",
       "        });\n",
       "        }\n",
       "        </script>\n",
       "        "
      ]
     },
     "metadata": {},
     "output_type": "display_data"
    }
   ],
   "source": [
    "from jupyter_imports import *\n",
    "from copy import deepcopy"
   ]
  },
  {
   "cell_type": "code",
   "execution_count": 2,
   "id": "7cf26116",
   "metadata": {},
   "outputs": [
    {
     "data": {
      "text/plain": [
       "'moved 0 logs to unreadable'"
      ]
     },
     "execution_count": 2,
     "metadata": {},
     "output_type": "execute_result"
    }
   ],
   "source": [
    "# run only once\n",
    "from utils.MyLogger import ExecutionLogger # use 'prod' for remote after cache_tmp\n",
    "start = datetime(2022,7,13,18)#,tzinfo=timezone.utc)\n",
    "dirname = os.path.join(os.sep, 'tmp','prod','tradeexecutor')#,'prod')\n",
    "ExecutionLogger.batch_summarize_exec_logs(dirname=dirname,start=start,add_history_context=False,rebuild=True)"
   ]
  },
  {
   "cell_type": "code",
   "execution_count": 3,
   "id": "0382975d",
   "metadata": {},
   "outputs": [],
   "source": [
    "files = ['all_by_clientOrderId','all_by_coin','all_by_symbol','all_parameters','all_request','all_data']\n",
    "original = {file:pd.read_csv(os.path.join(os.sep, dirname,f'{file}.csv'),parse_dates=['log_time'],index_col=0) for file in files}"
   ]
  },
  {
   "cell_type": "code",
   "execution_count": 4,
   "id": "a05605c0",
   "metadata": {
    "scrolled": true
   },
   "outputs": [],
   "source": [
    "cmap = cm.get_cmap('Spectral')\n",
    "#fig, ax = plt.subplots(1)"
   ]
  },
  {
   "cell_type": "markdown",
   "id": "033ab190",
   "metadata": {},
   "source": [
    "## parameters for reference"
   ]
  },
  {
   "cell_type": "code",
   "execution_count": 5,
   "id": "c6c6d402",
   "metadata": {},
   "outputs": [
    {
     "data": {
      "text/plain": [
       "{Timestamp('2022-07-14 15:50:37.877480+0000', tz='UTC'): 0,\n",
       " Timestamp('2022-07-14 15:00:25.164632+0000', tz='UTC'): 1,\n",
       " Timestamp('2022-07-14 15:51:29.415000+0000', tz='UTC'): 2}"
      ]
     },
     "execution_count": 5,
     "metadata": {},
     "output_type": "execute_result"
    }
   ],
   "source": [
    "all_parameters = original['all_parameters']\n",
    "all_parameters = all_parameters[all_parameters['index']!='inception_time']\n",
    "all_parameters['hash'] = all_parameters['log_time'].apply(lambda x: pd.util.hash_pandas_object(all_parameters.groupby('log_time').get_group(x).astype(str)).sum())\n",
    "all_parameters['param_index'] = all_parameters['hash'].apply(lambda h: list(all_parameters['hash'].unique()).index(h))\n",
    "all_parameters.drop(columns=['hash'],inplace=True)\n",
    "param_map = all_parameters.set_index('log_time')['param_index'].to_dict()\n",
    "param_map"
   ]
  },
  {
   "cell_type": "code",
   "execution_count": 6,
   "id": "abc52d0d",
   "metadata": {},
   "outputs": [],
   "source": [
    "indexed = deepcopy(original)\n",
    "for df in indexed.values():\n",
    "    df['param_index'] = df['log_time'].apply(lambda x:param_map[x])\n",
    "#colors = matplotlib.cm.rainbow(np.linspace(0, 1, len(all_parameters['param_index'].unique())))"
   ]
  },
  {
   "cell_type": "markdown",
   "id": "78bda957",
   "metadata": {},
   "source": [
    "### slippage, fees in bps. filled in USD"
   ]
  },
  {
   "cell_type": "code",
   "execution_count": 7,
   "id": "ac6c5421",
   "metadata": {},
   "outputs": [
    {
     "data": {
      "text/plain": [
       "Index(['index', 'clientOrderId', 'eventID', 'lifecycle_state',\n",
       "       'remote_timestamp', 'timestamp', 'id', 'symbol', 'type', 'side',\n",
       "       'amount', 'remaining', 'price', 'comment', 'risk_timestamp', 'delta',\n",
       "       'netDelta', 'pv(wrong timestamp)', 'margin_headroom', 'IM_discrepancy',\n",
       "       'mkt_timestamp', 'bid', 'bidVolume', 'ask', 'askVolume', 'info',\n",
       "       'datetime', 'lastTradeTimestamp', 'timeInForce', 'postOnly',\n",
       "       'reduceOnly', 'stopPrice', 'cost', 'average', 'filled', 'status', 'fee',\n",
       "       'trades', 'fees', 'order', 'takerOrMaker', 'fillId', 'log_time',\n",
       "       'orderTrigger', 'param_index'],\n",
       "      dtype='object')"
      ]
     },
     "execution_count": 7,
     "metadata": {},
     "output_type": "execute_result"
    }
   ],
   "source": [
    "indexed['all_data'].columns"
   ]
  },
  {
   "cell_type": "code",
   "execution_count": 8,
   "id": "ef05389f",
   "metadata": {},
   "outputs": [],
   "source": [
    "by_symbol = indexed['all_by_symbol']\n",
    "by_symbol = by_symbol[by_symbol['log_time']>start.replace(tzinfo=timezone.utc)]\n",
    "by_symbol['absFilled'] = by_symbol['filledUSD'].apply(np.abs)\n",
    "by_symbol['total_bps'] = by_symbol['slippage_bps'] + by_symbol['fee']\n",
    "by_symbol['fee_USD'] = by_symbol['fee']*by_symbol['absFilled']/10000 # in bps for by_symbol, in USD for by_clientorderid :(\n",
    "by_symbol['slippage_USD'] = by_symbol['slippage_bps']*by_symbol['absFilled']/10000\n",
    "by_symbol['total_USD'] = by_symbol['total_bps']*by_symbol['absFilled']/10000"
   ]
  },
  {
   "cell_type": "code",
   "execution_count": 9,
   "id": "80591c3c",
   "metadata": {},
   "outputs": [],
   "source": [
    "df_symbol = by_symbol[by_symbol['index']=='average'].pivot_table(index='log_time',aggfunc=sum)\n",
    "df_symbol[['fee_USD','slippage_USD','total_USD']] /= 10000*by_symbol[by_symbol['index']=='average'].pivot_table(index='log_time',values=['absFilled'],aggfunc=sum).values"
   ]
  },
  {
   "cell_type": "code",
   "execution_count": 10,
   "id": "a423f39a",
   "metadata": {
    "scrolled": true
   },
   "outputs": [
    {
     "data": {
      "text/plain": [
       "<AxesSubplot:xlabel='log_time'>"
      ]
     },
     "execution_count": 10,
     "metadata": {},
     "output_type": "execute_result"
    },
    {
     "data": {
      "image/png": "[encoded data removed]",
      "text/plain": [
       "<Figure size 1440x360 with 2 Axes>"
      ]
     },
     "metadata": {
      "needs_background": "light"
     },
     "output_type": "display_data"
    }
   ],
   "source": [
    "#ax.plot(df, c=df['param_index'], s=120, cmap=cmap, edgecolor='None',figsize=(20,10))\n",
    "#plt.show()\n",
    "df_symbol[['fee_USD','slippage_USD','total_USD','absFilled']].plot.bar(secondary_y='absFilled',figsize=(20,5))"
   ]
  },
  {
   "cell_type": "markdown",
   "id": "8132e33d",
   "metadata": {},
   "source": [
    "### slippage distribution"
   ]
  },
  {
   "cell_type": "code",
   "execution_count": 11,
   "id": "e6b82607",
   "metadata": {},
   "outputs": [
    {
     "name": "stdout",
     "output_type": "stream",
     "text": [
      "       total_bps  fee\n",
      "count   7.000000  7.0\n",
      "mean    8.117023  0.0\n",
      "std    15.521092  0.0\n",
      "min    -6.582064  0.0\n",
      "25%    -3.263761  0.0\n",
      "50%     1.381202  0.0\n",
      "75%    19.471330  0.0\n",
      "max    29.604887  0.0\n"
     ]
    },
    {
     "data": {
      "text/plain": [
       "<AxesSubplot:>"
      ]
     },
     "execution_count": 11,
     "metadata": {},
     "output_type": "execute_result"
    },
    {
     "data": {
      "image/png": "[encoded data removed]",
      "text/plain": [
       "<Figure size 720x360 with 1 Axes>"
      ]
     },
     "metadata": {
      "needs_background": "light"
     },
     "output_type": "display_data"
    }
   ],
   "source": [
    "print(by_symbol[['total_bps','fee']].describe())\n",
    "by_symbol.loc[by_symbol['index']=='average','total_bps'].hist(figsize=(10,5))"
   ]
  },
  {
   "cell_type": "code",
   "execution_count": 12,
   "id": "88cb77d9",
   "metadata": {},
   "outputs": [
    {
     "data": {
      "text/plain": [
       "<AxesSubplot:xlabel='log_time'>"
      ]
     },
     "execution_count": 12,
     "metadata": {},
     "output_type": "execute_result"
    },
    {
     "data": {
      "image/png": "[encoded data removed]",
      "text/plain": [
       "<Figure size 1440x720 with 2 Axes>"
      ]
     },
     "metadata": {
      "needs_background": "light"
     },
     "output_type": "display_data"
    }
   ],
   "source": [
    "by_coin = indexed['all_by_coin']\n",
    "trackrecord = by_coin[by_coin['index']=='average'].pivot_table(index='log_time',values=['perleg_fee_bps','perleg_filled_USD','premium_vs_inception_bps'],aggfunc=np.mean)\n",
    "trackrecord.plot.bar(secondary_y='perleg_filled_USD',figsize=(20,10))"
   ]
  },
  {
   "cell_type": "markdown",
   "id": "31a06908",
   "metadata": {},
   "source": [
    "# tick to ack"
   ]
  },
  {
   "cell_type": "code",
   "execution_count": 13,
   "id": "b990053f",
   "metadata": {},
   "outputs": [
    {
     "data": {
      "text/html": [
       "<div>\n",
       "<style scoped>\n",
       "    .dataframe tbody tr th:only-of-type {\n",
       "        vertical-align: middle;\n",
       "    }\n",
       "\n",
       "    .dataframe tbody tr th {\n",
       "        vertical-align: top;\n",
       "    }\n",
       "\n",
       "    .dataframe thead th {\n",
       "        text-align: right;\n",
       "    }\n",
       "</style>\n",
       "<table border=\"1\" class=\"dataframe\">\n",
       "  <thead>\n",
       "    <tr style=\"text-align: right;\">\n",
       "      <th></th>\n",
       "      <th>pending_to_ack_local</th>\n",
       "    </tr>\n",
       "  </thead>\n",
       "  <tbody>\n",
       "    <tr>\n",
       "      <th>count</th>\n",
       "      <td>7.000000</td>\n",
       "    </tr>\n",
       "    <tr>\n",
       "      <th>mean</th>\n",
       "      <td>109.952148</td>\n",
       "    </tr>\n",
       "    <tr>\n",
       "      <th>std</th>\n",
       "      <td>14.567682</td>\n",
       "    </tr>\n",
       "    <tr>\n",
       "      <th>min</th>\n",
       "      <td>97.247070</td>\n",
       "    </tr>\n",
       "    <tr>\n",
       "      <th>25%</th>\n",
       "      <td>97.915527</td>\n",
       "    </tr>\n",
       "    <tr>\n",
       "      <th>50%</th>\n",
       "      <td>108.751953</td>\n",
       "    </tr>\n",
       "    <tr>\n",
       "      <th>75%</th>\n",
       "      <td>116.431396</td>\n",
       "    </tr>\n",
       "    <tr>\n",
       "      <th>max</th>\n",
       "      <td>134.972168</td>\n",
       "    </tr>\n",
       "  </tbody>\n",
       "</table>\n",
       "</div>"
      ],
      "text/plain": [
       "       pending_to_ack_local\n",
       "count              7.000000\n",
       "mean             109.952148\n",
       "std               14.567682\n",
       "min               97.247070\n",
       "25%               97.915527\n",
       "50%              108.751953\n",
       "75%              116.431396\n",
       "max              134.972168"
      ]
     },
     "execution_count": 13,
     "metadata": {},
     "output_type": "execute_result"
    },
    {
     "data": {
      "image/png": "[encoded data removed]",
      "text/plain": [
       "<Figure size 720x360 with 1 Axes>"
      ]
     },
     "metadata": {
      "needs_background": "light"
     },
     "output_type": "display_data"
    }
   ],
   "source": [
    "by_clientOrderId = indexed['all_by_clientOrderId']\n",
    "tick_to_order_local = by_clientOrderId[['pending_to_ack_local']]\n",
    "tick_to_order_local.hist(bins=50,figsize=(10,5))\n",
    "tick_to_order_local.describe()"
   ]
  },
  {
   "cell_type": "markdown",
   "id": "dc305aec",
   "metadata": {},
   "source": [
    "# remote vs local (~ round trip)"
   ]
  },
  {
   "cell_type": "code",
   "execution_count": 14,
   "id": "d3931f06",
   "metadata": {},
   "outputs": [
    {
     "data": {
      "text/html": [
       "<div>\n",
       "<style scoped>\n",
       "    .dataframe tbody tr th:only-of-type {\n",
       "        vertical-align: middle;\n",
       "    }\n",
       "\n",
       "    .dataframe tbody tr th {\n",
       "        vertical-align: top;\n",
       "    }\n",
       "\n",
       "    .dataframe thead th {\n",
       "        text-align: right;\n",
       "    }\n",
       "</style>\n",
       "<table border=\"1\" class=\"dataframe\">\n",
       "  <thead>\n",
       "    <tr style=\"text-align: right;\">\n",
       "      <th></th>\n",
       "      <th>round_trip</th>\n",
       "    </tr>\n",
       "  </thead>\n",
       "  <tbody>\n",
       "    <tr>\n",
       "      <th>count</th>\n",
       "      <td>34.000000</td>\n",
       "    </tr>\n",
       "    <tr>\n",
       "      <th>mean</th>\n",
       "      <td>178.311552</td>\n",
       "    </tr>\n",
       "    <tr>\n",
       "      <th>std</th>\n",
       "      <td>757.191092</td>\n",
       "    </tr>\n",
       "    <tr>\n",
       "      <th>min</th>\n",
       "      <td>0.025879</td>\n",
       "    </tr>\n",
       "    <tr>\n",
       "      <th>25%</th>\n",
       "      <td>29.164429</td>\n",
       "    </tr>\n",
       "    <tr>\n",
       "      <th>50%</th>\n",
       "      <td>33.114014</td>\n",
       "    </tr>\n",
       "    <tr>\n",
       "      <th>75%</th>\n",
       "      <td>62.308960</td>\n",
       "    </tr>\n",
       "    <tr>\n",
       "      <th>max</th>\n",
       "      <td>4456.817871</td>\n",
       "    </tr>\n",
       "  </tbody>\n",
       "</table>\n",
       "</div>"
      ],
      "text/plain": [
       "        round_trip\n",
       "count    34.000000\n",
       "mean    178.311552\n",
       "std     757.191092\n",
       "min       0.025879\n",
       "25%      29.164429\n",
       "50%      33.114014\n",
       "75%      62.308960\n",
       "max    4456.817871"
      ]
     },
     "execution_count": 14,
     "metadata": {},
     "output_type": "execute_result"
    },
    {
     "data": {
      "image/png": "[encoded data removed]",
      "text/plain": [
       "<Figure size 1440x720 with 1 Axes>"
      ]
     },
     "metadata": {
      "needs_background": "light"
     },
     "output_type": "display_data"
    }
   ],
   "source": [
    "round_trip = pd.DataFrame(columns=['round_trip'], data = 2*(indexed['all_data']['timestamp']-indexed['all_data']['remote_timestamp']))\n",
    "round_trip.hist(bins=50,figsize=(20,10))\n",
    "round_trip.describe()"
   ]
  },
  {
   "cell_type": "code",
   "execution_count": null,
   "id": "c8c5a68c",
   "metadata": {},
   "outputs": [],
   "source": []
  }
 ],
 "metadata": {
  "kernelspec": {
   "display_name": "Python 3 (ipykernel)",
   "language": "python",
   "name": "python3"
  },
  "language_info": {
   "codemirror_mode": {
    "name": "ipython",
    "version": 3
   },
   "file_extension": ".py",
   "mimetype": "text/x-python",
   "name": "python",
   "nbconvert_exporter": "python",
   "pygments_lexer": "ipython3",
   "version": "3.9.13"
  }
 },
 "nbformat": 4,
 "nbformat_minor": 5
}
