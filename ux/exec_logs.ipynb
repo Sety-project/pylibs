{
 "cells": [
  {
   "cell_type": "code",
   "execution_count": 1,
   "id": "c6d6cb62",
   "metadata": {},
   "outputs": [
    {
     "data": {
      "text/html": [
       "        <script type=\"text/javascript\">\n",
       "        window.PlotlyConfig = {MathJaxConfig: 'local'};\n",
       "        if (window.MathJax && window.MathJax.Hub && window.MathJax.Hub.Config) {window.MathJax.Hub.Config({SVG: {font: \"STIX-Web\"}});}\n",
       "        if (typeof require !== 'undefined') {\n",
       "        require.undef(\"plotly\");\n",
       "        requirejs.config({\n",
       "            paths: {\n",
       "                'plotly': ['https://cdn.plot.ly/plotly-2.12.1.min']\n",
       "            }\n",
       "        });\n",
       "        require(['plotly'], function(Plotly) {\n",
       "            window._Plotly = Plotly;\n",
       "        });\n",
       "        }\n",
       "        </script>\n",
       "        "
      ]
     },
     "metadata": {},
     "output_type": "display_data"
    }
   ],
   "source": [
    "from jupyter_imports import *\n",
    "from copy import deepcopy"
   ]
  },
  {
   "cell_type": "code",
   "execution_count": 2,
   "id": "7cf26116",
   "metadata": {},
   "outputs": [
    {
     "data": {
      "text/plain": [
       "'moved 0 logs to unreadable'"
      ]
     },
     "execution_count": 2,
     "metadata": {},
     "output_type": "execute_result"
    }
   ],
   "source": [
    "# run only once\n",
    "from utils.MyLogger import ExecutionLogger # use 'prod' for remote after cache_tmp\n",
    "start = datetime(2022,7,10,0)#,tzinfo=timezone.utc)\n",
    "dirname = os.path.join(os.sep, 'tmp','','tradeexecutor')#,'prod')\n",
    "ExecutionLogger.batch_summarize_exec_logs(dirname=dirname,start=start,add_history_context=False,rebuild=True)"
   ]
  },
  {
   "cell_type": "code",
   "execution_count": 18,
   "id": "0382975d",
   "metadata": {
    "scrolled": true
   },
   "outputs": [],
   "source": [
    "files = ['all_by_clientOrderId','all_by_coin','all_by_symbol','all_order_manager','all_parameters']\n",
    "original = {file:pd.read_csv(os.path.join(os.sep, dirname,f'{file}.csv'),index_col=0) for file in files}"
   ]
  },
  {
   "cell_type": "code",
   "execution_count": 7,
   "id": "a05605c0",
   "metadata": {
    "scrolled": true
   },
   "outputs": [],
   "source": [
    "cmap = cm.get_cmap('Spectral')\n",
    "#fig, ax = plt.subplots(1)"
   ]
  },
  {
   "cell_type": "markdown",
   "id": "033ab190",
   "metadata": {},
   "source": [
    "## parameters for reference"
   ]
  },
  {
   "cell_type": "code",
   "execution_count": 19,
   "id": "c6c6d402",
   "metadata": {},
   "outputs": [
    {
     "data": {
      "text/plain": [
       "{1659458523170.565: 0}"
      ]
     },
     "execution_count": 19,
     "metadata": {},
     "output_type": "execute_result"
    }
   ],
   "source": [
    "all_parameters = original['all_parameters']\n",
    "all_parameters['hash'] = all_parameters['timestamp'].apply(lambda x: pd.util.hash_pandas_object(all_parameters.groupby('timestamp').get_group(x).astype(str)).sum())\n",
    "all_parameters['param_index'] = all_parameters['hash'].apply(lambda h: list(all_parameters['hash'].unique()).index(h))\n",
    "all_parameters.drop(columns=['hash'],inplace=True)\n",
    "param_map = all_parameters.set_index('timestamp')['param_index'].to_dict()\n",
    "param_map"
   ]
  },
  {
   "cell_type": "code",
   "execution_count": 20,
   "id": "abc52d0d",
   "metadata": {
    "scrolled": true
   },
   "outputs": [
    {
     "ename": "KeyError",
     "evalue": "'timestamp'",
     "output_type": "error",
     "traceback": [
      "\u001b[0;31m---------------------------------------------------------------------------\u001b[0m",
      "\u001b[0;31mKeyError\u001b[0m                                  Traceback (most recent call last)",
      "File \u001b[0;32m~/Sety-project/pylibs/.venv3.9/lib/python3.9/site-packages/pandas/core/indexes/base.py:3621\u001b[0m, in \u001b[0;36mIndex.get_loc\u001b[0;34m(self, key, method, tolerance)\u001b[0m\n\u001b[1;32m   3620\u001b[0m \u001b[38;5;28;01mtry\u001b[39;00m:\n\u001b[0;32m-> 3621\u001b[0m     \u001b[38;5;28;01mreturn\u001b[39;00m \u001b[38;5;28;43mself\u001b[39;49m\u001b[38;5;241;43m.\u001b[39;49m\u001b[43m_engine\u001b[49m\u001b[38;5;241;43m.\u001b[39;49m\u001b[43mget_loc\u001b[49m\u001b[43m(\u001b[49m\u001b[43mcasted_key\u001b[49m\u001b[43m)\u001b[49m\n\u001b[1;32m   3622\u001b[0m \u001b[38;5;28;01mexcept\u001b[39;00m \u001b[38;5;167;01mKeyError\u001b[39;00m \u001b[38;5;28;01mas\u001b[39;00m err:\n",
      "File \u001b[0;32m~/Sety-project/pylibs/.venv3.9/lib/python3.9/site-packages/pandas/_libs/index.pyx:136\u001b[0m, in \u001b[0;36mpandas._libs.index.IndexEngine.get_loc\u001b[0;34m()\u001b[0m\n",
      "File \u001b[0;32m~/Sety-project/pylibs/.venv3.9/lib/python3.9/site-packages/pandas/_libs/index.pyx:163\u001b[0m, in \u001b[0;36mpandas._libs.index.IndexEngine.get_loc\u001b[0;34m()\u001b[0m\n",
      "File \u001b[0;32mpandas/_libs/hashtable_class_helper.pxi:5198\u001b[0m, in \u001b[0;36mpandas._libs.hashtable.PyObjectHashTable.get_item\u001b[0;34m()\u001b[0m\n",
      "File \u001b[0;32mpandas/_libs/hashtable_class_helper.pxi:5206\u001b[0m, in \u001b[0;36mpandas._libs.hashtable.PyObjectHashTable.get_item\u001b[0;34m()\u001b[0m\n",
      "\u001b[0;31mKeyError\u001b[0m: 'timestamp'",
      "\nThe above exception was the direct cause of the following exception:\n",
      "\u001b[0;31mKeyError\u001b[0m                                  Traceback (most recent call last)",
      "Input \u001b[0;32mIn [20]\u001b[0m, in \u001b[0;36m<cell line: 2>\u001b[0;34m()\u001b[0m\n\u001b[1;32m      1\u001b[0m indexed \u001b[38;5;241m=\u001b[39m deepcopy(original)\n\u001b[1;32m      2\u001b[0m \u001b[38;5;28;01mfor\u001b[39;00m df \u001b[38;5;129;01min\u001b[39;00m indexed\u001b[38;5;241m.\u001b[39mvalues():\n\u001b[0;32m----> 3\u001b[0m     df[\u001b[38;5;124m'\u001b[39m\u001b[38;5;124mparam_index\u001b[39m\u001b[38;5;124m'\u001b[39m] \u001b[38;5;241m=\u001b[39m \u001b[43mdf\u001b[49m\u001b[43m[\u001b[49m\u001b[38;5;124;43m'\u001b[39;49m\u001b[38;5;124;43mtimestamp\u001b[39;49m\u001b[38;5;124;43m'\u001b[39;49m\u001b[43m]\u001b[49m\u001b[38;5;241m.\u001b[39mapply(\u001b[38;5;28;01mlambda\u001b[39;00m x:param_map[x])\n",
      "File \u001b[0;32m~/Sety-project/pylibs/.venv3.9/lib/python3.9/site-packages/pandas/core/frame.py:3505\u001b[0m, in \u001b[0;36mDataFrame.__getitem__\u001b[0;34m(self, key)\u001b[0m\n\u001b[1;32m   3503\u001b[0m \u001b[38;5;28;01mif\u001b[39;00m \u001b[38;5;28mself\u001b[39m\u001b[38;5;241m.\u001b[39mcolumns\u001b[38;5;241m.\u001b[39mnlevels \u001b[38;5;241m>\u001b[39m \u001b[38;5;241m1\u001b[39m:\n\u001b[1;32m   3504\u001b[0m     \u001b[38;5;28;01mreturn\u001b[39;00m \u001b[38;5;28mself\u001b[39m\u001b[38;5;241m.\u001b[39m_getitem_multilevel(key)\n\u001b[0;32m-> 3505\u001b[0m indexer \u001b[38;5;241m=\u001b[39m \u001b[38;5;28;43mself\u001b[39;49m\u001b[38;5;241;43m.\u001b[39;49m\u001b[43mcolumns\u001b[49m\u001b[38;5;241;43m.\u001b[39;49m\u001b[43mget_loc\u001b[49m\u001b[43m(\u001b[49m\u001b[43mkey\u001b[49m\u001b[43m)\u001b[49m\n\u001b[1;32m   3506\u001b[0m \u001b[38;5;28;01mif\u001b[39;00m is_integer(indexer):\n\u001b[1;32m   3507\u001b[0m     indexer \u001b[38;5;241m=\u001b[39m [indexer]\n",
      "File \u001b[0;32m~/Sety-project/pylibs/.venv3.9/lib/python3.9/site-packages/pandas/core/indexes/base.py:3623\u001b[0m, in \u001b[0;36mIndex.get_loc\u001b[0;34m(self, key, method, tolerance)\u001b[0m\n\u001b[1;32m   3621\u001b[0m     \u001b[38;5;28;01mreturn\u001b[39;00m \u001b[38;5;28mself\u001b[39m\u001b[38;5;241m.\u001b[39m_engine\u001b[38;5;241m.\u001b[39mget_loc(casted_key)\n\u001b[1;32m   3622\u001b[0m \u001b[38;5;28;01mexcept\u001b[39;00m \u001b[38;5;167;01mKeyError\u001b[39;00m \u001b[38;5;28;01mas\u001b[39;00m err:\n\u001b[0;32m-> 3623\u001b[0m     \u001b[38;5;28;01mraise\u001b[39;00m \u001b[38;5;167;01mKeyError\u001b[39;00m(key) \u001b[38;5;28;01mfrom\u001b[39;00m \u001b[38;5;21;01merr\u001b[39;00m\n\u001b[1;32m   3624\u001b[0m \u001b[38;5;28;01mexcept\u001b[39;00m \u001b[38;5;167;01mTypeError\u001b[39;00m:\n\u001b[1;32m   3625\u001b[0m     \u001b[38;5;66;03m# If we have a listlike key, _check_indexing_error will raise\u001b[39;00m\n\u001b[1;32m   3626\u001b[0m     \u001b[38;5;66;03m#  InvalidIndexError. Otherwise we fall through and re-raise\u001b[39;00m\n\u001b[1;32m   3627\u001b[0m     \u001b[38;5;66;03m#  the TypeError.\u001b[39;00m\n\u001b[1;32m   3628\u001b[0m     \u001b[38;5;28mself\u001b[39m\u001b[38;5;241m.\u001b[39m_check_indexing_error(key)\n",
      "\u001b[0;31mKeyError\u001b[0m: 'timestamp'"
     ]
    }
   ],
   "source": [
    "indexed = deepcopy(original)\n",
    "for df in indexed.values():\n",
    "    df['param_index'] = df['timestamp'].apply(lambda x:param_map[x])\n",
    "#colors = matplotlib.cm.rainbow(np.linspace(0, 1, len(all_parameters['param_index'].unique())))"
   ]
  },
  {
   "cell_type": "markdown",
   "id": "78bda957",
   "metadata": {},
   "source": [
    "### slippage, fees in bps. filled in USD"
   ]
  },
  {
   "cell_type": "code",
   "execution_count": 47,
   "id": "5183c446",
   "metadata": {},
   "outputs": [
    {
     "name": "stdout",
     "output_type": "stream",
     "text": [
      "       time_to_execute  slippage_bps  fee  filledUSD  absFilled   total_bps  \\\n",
      "count         2.000000      3.000000  3.0   3.000000   3.000000    3.000000   \n",
      "mean     163163.650024      1.369517  0.0   4.480500   8.959200    1.369517   \n",
      "std      230042.821420    227.397169  0.0  10.263464   3.879448  227.397169   \n",
      "min         498.811035   -226.042880  0.0  -6.718050   6.718050 -226.042880   \n",
      "25%       81831.230530   -112.321453  0.0   0.001350   6.719400 -112.321453   \n",
      "50%      163163.650024      1.399974  0.0   6.720750   6.720750    1.399974   \n",
      "75%      244496.069519    115.075715  0.0  10.079775  10.079775  115.075715   \n",
      "max      325828.489014    228.751455  0.0  13.438800  13.438800  228.751455   \n",
      "\n",
      "       fee_USD  slippage_USD  total_USD  \n",
      "count      3.0      3.000000   3.000000  \n",
      "mean       0.0      0.001254   0.001254  \n",
      "std        0.0      0.152798   0.152798  \n",
      "min        0.0     -0.151857  -0.151857  \n",
      "25%        0.0     -0.074988  -0.074988  \n",
      "50%        0.0      0.001881   0.001881  \n",
      "75%        0.0      0.077810   0.077810  \n",
      "max        0.0      0.153738   0.153738  \n"
     ]
    },
    {
     "data": {
      "text/html": [
       "<div>\n",
       "<style scoped>\n",
       "    .dataframe tbody tr th:only-of-type {\n",
       "        vertical-align: middle;\n",
       "    }\n",
       "\n",
       "    .dataframe tbody tr th {\n",
       "        vertical-align: top;\n",
       "    }\n",
       "\n",
       "    .dataframe thead th {\n",
       "        text-align: right;\n",
       "    }\n",
       "</style>\n",
       "<table border=\"1\" class=\"dataframe\">\n",
       "  <thead>\n",
       "    <tr style=\"text-align: right;\">\n",
       "      <th></th>\n",
       "      <th>index</th>\n",
       "      <th>time_to_execute</th>\n",
       "      <th>slippage_bps</th>\n",
       "      <th>fee</th>\n",
       "      <th>filledUSD</th>\n",
       "      <th>coin</th>\n",
       "      <th>absFilled</th>\n",
       "      <th>total_bps</th>\n",
       "      <th>fee_USD</th>\n",
       "      <th>slippage_USD</th>\n",
       "      <th>total_USD</th>\n",
       "    </tr>\n",
       "  </thead>\n",
       "  <tbody>\n",
       "    <tr>\n",
       "      <th>0</th>\n",
       "      <td>LINK/USD</td>\n",
       "      <td>325828.489014</td>\n",
       "      <td>-226.042880</td>\n",
       "      <td>0.0</td>\n",
       "      <td>-6.71805</td>\n",
       "      <td>LINK</td>\n",
       "      <td>6.71805</td>\n",
       "      <td>-226.042880</td>\n",
       "      <td>0.0</td>\n",
       "      <td>-0.151857</td>\n",
       "      <td>-0.151857</td>\n",
       "    </tr>\n",
       "    <tr>\n",
       "      <th>1</th>\n",
       "      <td>LINK/USD:USD</td>\n",
       "      <td>498.811035</td>\n",
       "      <td>228.751455</td>\n",
       "      <td>0.0</td>\n",
       "      <td>6.72075</td>\n",
       "      <td>LINK</td>\n",
       "      <td>6.72075</td>\n",
       "      <td>228.751455</td>\n",
       "      <td>0.0</td>\n",
       "      <td>0.153738</td>\n",
       "      <td>0.153738</td>\n",
       "    </tr>\n",
       "    <tr>\n",
       "      <th>2</th>\n",
       "      <td>average</td>\n",
       "      <td>NaN</td>\n",
       "      <td>1.399974</td>\n",
       "      <td>0.0</td>\n",
       "      <td>13.43880</td>\n",
       "      <td>NaN</td>\n",
       "      <td>13.43880</td>\n",
       "      <td>1.399974</td>\n",
       "      <td>0.0</td>\n",
       "      <td>0.001881</td>\n",
       "      <td>0.001881</td>\n",
       "    </tr>\n",
       "  </tbody>\n",
       "</table>\n",
       "</div>"
      ],
      "text/plain": [
       "          index  time_to_execute  slippage_bps  fee  filledUSD  coin  \\\n",
       "0      LINK/USD    325828.489014   -226.042880  0.0   -6.71805  LINK   \n",
       "1  LINK/USD:USD       498.811035    228.751455  0.0    6.72075  LINK   \n",
       "2       average              NaN      1.399974  0.0   13.43880   NaN   \n",
       "\n",
       "   absFilled   total_bps  fee_USD  slippage_USD  total_USD  \n",
       "0    6.71805 -226.042880      0.0     -0.151857  -0.151857  \n",
       "1    6.72075  228.751455      0.0      0.153738   0.153738  \n",
       "2   13.43880    1.399974      0.0      0.001881   0.001881  "
      ]
     },
     "execution_count": 47,
     "metadata": {},
     "output_type": "execute_result"
    }
   ],
   "source": [
    "print(indexed['all_by_symbol'].describe())\n",
    "indexed['all_by_symbol']"
   ]
  },
  {
   "cell_type": "markdown",
   "id": "8132e33d",
   "metadata": {},
   "source": [
    "### slippage distribution"
   ]
  },
  {
   "cell_type": "code",
   "execution_count": 46,
   "id": "f3a9ae4d",
   "metadata": {},
   "outputs": [
    {
     "name": "stdout",
     "output_type": "stream",
     "text": [
      "       perleg_fee_bps  perleg_filled_USD  premium_vs_inception_bps\n",
      "count             2.0             2.0000                  2.000000\n",
      "mean              0.0             6.7194                  2.799949\n",
      "std               0.0             0.0000                  0.000000\n",
      "min               0.0             6.7194                  2.799949\n",
      "25%               0.0             6.7194                  2.799949\n",
      "50%               0.0             6.7194                  2.799949\n",
      "75%               0.0             6.7194                  2.799949\n",
      "max               0.0             6.7194                  2.799949\n"
     ]
    },
    {
     "data": {
      "text/html": [
       "<div>\n",
       "<style scoped>\n",
       "    .dataframe tbody tr th:only-of-type {\n",
       "        vertical-align: middle;\n",
       "    }\n",
       "\n",
       "    .dataframe tbody tr th {\n",
       "        vertical-align: top;\n",
       "    }\n",
       "\n",
       "    .dataframe thead th {\n",
       "        text-align: right;\n",
       "    }\n",
       "</style>\n",
       "<table border=\"1\" class=\"dataframe\">\n",
       "  <thead>\n",
       "    <tr style=\"text-align: right;\">\n",
       "      <th></th>\n",
       "      <th>index</th>\n",
       "      <th>perleg_fee_bps</th>\n",
       "      <th>perleg_filled_USD</th>\n",
       "      <th>premium_vs_inception_bps</th>\n",
       "    </tr>\n",
       "  </thead>\n",
       "  <tbody>\n",
       "    <tr>\n",
       "      <th>0</th>\n",
       "      <td>LINK</td>\n",
       "      <td>0.0</td>\n",
       "      <td>6.7194</td>\n",
       "      <td>2.799949</td>\n",
       "    </tr>\n",
       "    <tr>\n",
       "      <th>1</th>\n",
       "      <td>average</td>\n",
       "      <td>0.0</td>\n",
       "      <td>6.7194</td>\n",
       "      <td>2.799949</td>\n",
       "    </tr>\n",
       "  </tbody>\n",
       "</table>\n",
       "</div>"
      ],
      "text/plain": [
       "     index  perleg_fee_bps  perleg_filled_USD  premium_vs_inception_bps\n",
       "0     LINK             0.0             6.7194                  2.799949\n",
       "1  average             0.0             6.7194                  2.799949"
      ]
     },
     "execution_count": 46,
     "metadata": {},
     "output_type": "execute_result"
    }
   ],
   "source": [
    "print(indexed['all_by_coin'].describe())\n",
    "indexed['all_by_coin']"
   ]
  },
  {
   "cell_type": "markdown",
   "id": "31a06908",
   "metadata": {},
   "source": [
    "# tick to ack"
   ]
  },
  {
   "cell_type": "code",
   "execution_count": 49,
   "id": "b990053f",
   "metadata": {},
   "outputs": [
    {
     "data": {
      "text/html": [
       "<div>\n",
       "<style scoped>\n",
       "    .dataframe tbody tr th:only-of-type {\n",
       "        vertical-align: middle;\n",
       "    }\n",
       "\n",
       "    .dataframe tbody tr th {\n",
       "        vertical-align: top;\n",
       "    }\n",
       "\n",
       "    .dataframe thead th {\n",
       "        text-align: right;\n",
       "    }\n",
       "</style>\n",
       "<table border=\"1\" class=\"dataframe\">\n",
       "  <thead>\n",
       "    <tr style=\"text-align: right;\">\n",
       "      <th></th>\n",
       "      <th>index</th>\n",
       "      <th>symbol</th>\n",
       "      <th>coin</th>\n",
       "      <th>order_ref</th>\n",
       "      <th>pending_local</th>\n",
       "      <th>pending_to_ack_local</th>\n",
       "      <th>mid_at_pending</th>\n",
       "      <th>amount</th>\n",
       "      <th>filled</th>\n",
       "      <th>price</th>\n",
       "      <th>fee</th>\n",
       "      <th>last_fill_local</th>\n",
       "    </tr>\n",
       "  </thead>\n",
       "  <tbody>\n",
       "    <tr>\n",
       "      <th>0</th>\n",
       "      <td>new_LINK/USD:USD_1659458476158</td>\n",
       "      <td>LINK/USD:USD</td>\n",
       "      <td>LINK</td>\n",
       "      <td>7.3005</td>\n",
       "      <td>1.659458e+12</td>\n",
       "      <td>414.435059</td>\n",
       "      <td>7.46725</td>\n",
       "      <td>0.9</td>\n",
       "      <td>0.9</td>\n",
       "      <td>7.4675</td>\n",
       "      <td>0.0</td>\n",
       "      <td>1.659458e+12</td>\n",
       "    </tr>\n",
       "    <tr>\n",
       "      <th>1</th>\n",
       "      <td>new_LINK/USD_1659458150302</td>\n",
       "      <td>LINK/USD</td>\n",
       "      <td>LINK</td>\n",
       "      <td>7.2995</td>\n",
       "      <td>1.659458e+12</td>\n",
       "      <td>372.713135</td>\n",
       "      <td>7.43750</td>\n",
       "      <td>-0.9</td>\n",
       "      <td>-0.9</td>\n",
       "      <td>7.4645</td>\n",
       "      <td>0.0</td>\n",
       "      <td>1.659458e+12</td>\n",
       "    </tr>\n",
       "  </tbody>\n",
       "</table>\n",
       "</div>"
      ],
      "text/plain": [
       "                            index        symbol  coin  order_ref  \\\n",
       "0  new_LINK/USD:USD_1659458476158  LINK/USD:USD  LINK     7.3005   \n",
       "1      new_LINK/USD_1659458150302      LINK/USD  LINK     7.2995   \n",
       "\n",
       "   pending_local  pending_to_ack_local  mid_at_pending  amount  filled  \\\n",
       "0   1.659458e+12            414.435059         7.46725     0.9     0.9   \n",
       "1   1.659458e+12            372.713135         7.43750    -0.9    -0.9   \n",
       "\n",
       "    price  fee  last_fill_local  \n",
       "0  7.4675  0.0     1.659458e+12  \n",
       "1  7.4645  0.0     1.659458e+12  "
      ]
     },
     "execution_count": 49,
     "metadata": {},
     "output_type": "execute_result"
    },
    {
     "data": {
      "image/png": "[encoded data removed]",
      "text/plain": [
       "<Figure size 720x360 with 1 Axes>"
      ]
     },
     "metadata": {
      "needs_background": "light"
     },
     "output_type": "display_data"
    }
   ],
   "source": [
    "by_clientOrderId = indexed['all_by_clientOrderId']\n",
    "tick_to_order_local = by_clientOrderId[['pending_to_ack_local']]\n",
    "tick_to_order_local.hist(bins=50,figsize=(10,5))\n",
    "tick_to_order_local.describe()\n",
    "by_clientOrderId"
   ]
  },
  {
   "cell_type": "markdown",
   "id": "8a833f6e",
   "metadata": {},
   "source": [
    "# remote vs local (~ round trip)"
   ]
  },
  {
   "cell_type": "code",
   "execution_count": 58,
   "id": "d3931f06",
   "metadata": {},
   "outputs": [
    {
     "data": {
      "text/html": [
       "<div>\n",
       "<style scoped>\n",
       "    .dataframe tbody tr th:only-of-type {\n",
       "        vertical-align: middle;\n",
       "    }\n",
       "\n",
       "    .dataframe tbody tr th {\n",
       "        vertical-align: top;\n",
       "    }\n",
       "\n",
       "    .dataframe thead th {\n",
       "        text-align: right;\n",
       "    }\n",
       "</style>\n",
       "<table border=\"1\" class=\"dataframe\">\n",
       "  <thead>\n",
       "    <tr style=\"text-align: right;\">\n",
       "      <th></th>\n",
       "      <th>timestamp</th>\n",
       "      <th>remote_timestamp</th>\n",
       "    </tr>\n",
       "  </thead>\n",
       "  <tbody>\n",
       "    <tr>\n",
       "      <th>0</th>\n",
       "      <td>-372868.330078</td>\n",
       "      <td>NaN</td>\n",
       "    </tr>\n",
       "    <tr>\n",
       "      <th>1</th>\n",
       "      <td>-372512.594971</td>\n",
       "      <td>-372642.564941</td>\n",
       "    </tr>\n",
       "    <tr>\n",
       "      <th>2</th>\n",
       "      <td>-372495.616943</td>\n",
       "      <td>-372642.564941</td>\n",
       "    </tr>\n",
       "    <tr>\n",
       "      <th>3</th>\n",
       "      <td>-47039.840820</td>\n",
       "      <td>-47175.564941</td>\n",
       "    </tr>\n",
       "    <tr>\n",
       "      <th>4</th>\n",
       "      <td>-47012.331055</td>\n",
       "      <td>NaN</td>\n",
       "    </tr>\n",
       "    <tr>\n",
       "      <th>5</th>\n",
       "      <td>-46623.947021</td>\n",
       "      <td>-46757.564941</td>\n",
       "    </tr>\n",
       "    <tr>\n",
       "      <th>6</th>\n",
       "      <td>-46597.895996</td>\n",
       "      <td>-46757.564941</td>\n",
       "    </tr>\n",
       "    <tr>\n",
       "      <th>7</th>\n",
       "      <td>-46513.520020</td>\n",
       "      <td>-46695.564941</td>\n",
       "    </tr>\n",
       "  </tbody>\n",
       "</table>\n",
       "</div>"
      ],
      "text/plain": [
       "       timestamp  remote_timestamp\n",
       "0 -372868.330078               NaN\n",
       "1 -372512.594971    -372642.564941\n",
       "2 -372495.616943    -372642.564941\n",
       "3  -47039.840820     -47175.564941\n",
       "4  -47012.331055               NaN\n",
       "5  -46623.947021     -46757.564941\n",
       "6  -46597.895996     -46757.564941\n",
       "7  -46513.520020     -46695.564941"
      ]
     },
     "execution_count": 58,
     "metadata": {},
     "output_type": "execute_result"
    },
    {
     "data": {
      "image/png": "[encoded data removed]",
      "text/plain": [
       "<Figure size 1440x720 with 1 Axes>"
      ]
     },
     "metadata": {
      "needs_background": "light"
     },
     "output_type": "display_data"
    }
   ],
   "source": [
    "round_trip = pd.DataFrame(columns=['round_trip'], data = 2*(indexed['all_order_manager']['timestamp']-indexed['all_order_manager']['remote_timestamp']))\n",
    "round_trip.hist(bins=50,figsize=(20,10))\n",
    "round_trip.describe()\n",
    "indexed['all_order_manager'][['timestamp','remote_timestamp']] - indexed['all_parameters']['timestamp'].squeeze()"
   ]
  },
  {
   "cell_type": "code",
   "execution_count": null,
   "id": "c8c5a68c",
   "metadata": {},
   "outputs": [],
   "source": []
  }
 ],
 "metadata": {
  "kernelspec": {
   "display_name": "Python 3 (ipykernel)",
   "language": "python",
   "name": "python3"
  },
  "language_info": {
   "codemirror_mode": {
    "name": "ipython",
    "version": 3
   },
   "file_extension": ".py",
   "mimetype": "text/x-python",
   "name": "python",
   "nbconvert_exporter": "python",
   "pygments_lexer": "ipython3",
   "version": "3.9.13"
  }
 },
 "nbformat": 4,
 "nbformat_minor": 5
}
