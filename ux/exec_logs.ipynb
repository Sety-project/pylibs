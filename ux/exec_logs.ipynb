{
 "cells": [
  {
   "cell_type": "code",
   "execution_count": 2,
   "id": "c6d6cb62",
   "metadata": {},
   "outputs": [],
   "source": [
    "from jupyter_imports import *\n",
    "from copy import deepcopy"
   ]
  },
  {
   "cell_type": "code",
   "execution_count": 3,
   "id": "7cf26116",
   "metadata": {},
   "outputs": [],
   "source": [
    "# run only once\n",
    "from utils.MyLogger import ExecutionLogger # use 'prod' for remote after cache_tmp\n",
    "start = datetime(2022,9,16,0)#,tzinfo=timezone.utc)\n",
    "dirname = os.path.join(os.sep, 'tmp','prod','tradeexecutor')#,'prod')\n",
    "ExecutionLogger.batch_summarize_exec_logs(dirname=dirname,start=start,add_history_context=False,rebuild=True)"
   ]
  },
  {
   "cell_type": "code",
   "execution_count": 4,
   "id": "0382975d",
   "metadata": {
    "scrolled": true
   },
   "outputs": [],
   "source": [
    "files = ['all_by_clientOrderId','all_by_coin','all_by_symbol','all_order_manager','all_parameters']\n",
    "original = {file:pd.read_csv(os.path.join(os.sep, dirname,f'{file}.csv'),index_col=0) for file in files}"
   ]
  },
  {
   "cell_type": "code",
   "execution_count": 5,
   "id": "a05605c0",
   "metadata": {
    "scrolled": true
   },
   "outputs": [],
   "source": [
    "cmap = cm.get_cmap('Spectral')\n",
    "#fig, ax = plt.subplots(1)"
   ]
  },
  {
   "cell_type": "markdown",
   "id": "033ab190",
   "metadata": {},
   "source": [
    "## parameters for reference"
   ]
  },
  {
   "cell_type": "code",
   "execution_count": 6,
   "id": "c6c6d402",
   "metadata": {},
   "outputs": [
    {
     "data": {
      "text/plain": [
       "{1663343086489.0251: 0, 1663343957341.835: 1, 1663343217549.02: 2}"
      ]
     },
     "execution_count": 6,
     "metadata": {},
     "output_type": "execute_result"
    }
   ],
   "source": [
    "all_parameters = original['all_parameters']\n",
    "all_parameters['hash'] = all_parameters['timestamp'].apply(lambda x: pd.util.hash_pandas_object(all_parameters.groupby('timestamp').get_group(x).astype(str)).sum())\n",
    "all_parameters['param_index'] = all_parameters['hash'].apply(lambda h: list(all_parameters['hash'].unique()).index(h))\n",
    "all_parameters.drop(columns=['hash'],inplace=True)\n",
    "param_map = all_parameters.set_index('timestamp')['param_index'].to_dict()\n",
    "param_map"
   ]
  },
  {
   "cell_type": "code",
   "execution_count": null,
   "id": "6fcd9d20",
   "metadata": {},
   "outputs": [],
   "source": []
  },
  {
   "cell_type": "code",
   "execution_count": 7,
   "id": "abc52d0d",
   "metadata": {},
   "outputs": [],
   "source": [
    "indexed = deepcopy(original)\n",
    "#for df in indexed.values():\n",
    "#    df['param_index'] = df['timestamp'].apply(lambda x:param_map[x])\n",
    "#colors = matplotlib.cm.rainbow(np.linspace(0, 1, len(all_parameters['param_index'].unique())))"
   ]
  },
  {
   "cell_type": "markdown",
   "id": "78bda957",
   "metadata": {},
   "source": [
    "### slippage, fees in bps. filled in USD"
   ]
  },
  {
   "cell_type": "code",
   "execution_count": 8,
   "id": "5183c446",
   "metadata": {},
   "outputs": [
    {
     "name": "stdout",
     "output_type": "stream",
     "text": [
      "       time_to_execute  slippage_bps  fee   filledUSD\n",
      "count         2.000000      3.000000  3.0    3.000000\n",
      "mean     478807.511597      6.098022  0.0  160.564933\n",
      "std      429418.423984     17.218519  0.0  364.749122\n",
      "min      175162.832031    -11.081867  0.0 -237.637700\n",
      "25%      326985.171814     -2.530423  0.0    1.604850\n",
      "50%      478807.511597      6.021021  0.0  240.847400\n",
      "75%      630629.851379     14.687967  0.0  359.666250\n",
      "max      782452.191162     23.354912  0.0  478.485100\n"
     ]
    },
    {
     "data": {
      "text/html": [
       "<div>\n",
       "<style scoped>\n",
       "    .dataframe tbody tr th:only-of-type {\n",
       "        vertical-align: middle;\n",
       "    }\n",
       "\n",
       "    .dataframe tbody tr th {\n",
       "        vertical-align: top;\n",
       "    }\n",
       "\n",
       "    .dataframe thead th {\n",
       "        text-align: right;\n",
       "    }\n",
       "</style>\n",
       "<table border=\"1\" class=\"dataframe\">\n",
       "  <thead>\n",
       "    <tr style=\"text-align: right;\">\n",
       "      <th></th>\n",
       "      <th>index</th>\n",
       "      <th>time_to_execute</th>\n",
       "      <th>slippage_bps</th>\n",
       "      <th>fee</th>\n",
       "      <th>filledUSD</th>\n",
       "      <th>coin</th>\n",
       "    </tr>\n",
       "  </thead>\n",
       "  <tbody>\n",
       "    <tr>\n",
       "      <th>0</th>\n",
       "      <td>ETH/USD</td>\n",
       "      <td>175162.832031</td>\n",
       "      <td>-11.081867</td>\n",
       "      <td>0.0</td>\n",
       "      <td>240.8474</td>\n",
       "      <td>ETH</td>\n",
       "    </tr>\n",
       "    <tr>\n",
       "      <th>1</th>\n",
       "      <td>ETH/USD:USD</td>\n",
       "      <td>782452.191162</td>\n",
       "      <td>23.354912</td>\n",
       "      <td>0.0</td>\n",
       "      <td>-237.6377</td>\n",
       "      <td>ETH</td>\n",
       "    </tr>\n",
       "    <tr>\n",
       "      <th>2</th>\n",
       "      <td>average</td>\n",
       "      <td>NaN</td>\n",
       "      <td>6.021021</td>\n",
       "      <td>0.0</td>\n",
       "      <td>478.4851</td>\n",
       "      <td>NaN</td>\n",
       "    </tr>\n",
       "  </tbody>\n",
       "</table>\n",
       "</div>"
      ],
      "text/plain": [
       "         index  time_to_execute  slippage_bps  fee  filledUSD coin\n",
       "0      ETH/USD    175162.832031    -11.081867  0.0   240.8474  ETH\n",
       "1  ETH/USD:USD    782452.191162     23.354912  0.0  -237.6377  ETH\n",
       "2      average              NaN      6.021021  0.0   478.4851  NaN"
      ]
     },
     "execution_count": 8,
     "metadata": {},
     "output_type": "execute_result"
    }
   ],
   "source": [
    "print(indexed['all_by_symbol'].describe())\n",
    "indexed['all_by_symbol']"
   ]
  },
  {
   "cell_type": "markdown",
   "id": "8132e33d",
   "metadata": {},
   "source": [
    "### slippage distribution"
   ]
  },
  {
   "cell_type": "code",
   "execution_count": 9,
   "id": "a2b6ff4c",
   "metadata": {},
   "outputs": [
    {
     "name": "stdout",
     "output_type": "stream",
     "text": [
      "       perleg_fee_bps  perleg_filled_USD  premium_vs_inception_bps\n",
      "count             2.0            2.00000                  2.000000\n",
      "mean              0.0          239.24255                 12.042042\n",
      "std               0.0            0.00000                  0.000000\n",
      "min               0.0          239.24255                 12.042042\n",
      "25%               0.0          239.24255                 12.042042\n",
      "50%               0.0          239.24255                 12.042042\n",
      "75%               0.0          239.24255                 12.042042\n",
      "max               0.0          239.24255                 12.042042\n"
     ]
    },
    {
     "data": {
      "text/html": [
       "<div>\n",
       "<style scoped>\n",
       "    .dataframe tbody tr th:only-of-type {\n",
       "        vertical-align: middle;\n",
       "    }\n",
       "\n",
       "    .dataframe tbody tr th {\n",
       "        vertical-align: top;\n",
       "    }\n",
       "\n",
       "    .dataframe thead th {\n",
       "        text-align: right;\n",
       "    }\n",
       "</style>\n",
       "<table border=\"1\" class=\"dataframe\">\n",
       "  <thead>\n",
       "    <tr style=\"text-align: right;\">\n",
       "      <th></th>\n",
       "      <th>index</th>\n",
       "      <th>perleg_fee_bps</th>\n",
       "      <th>perleg_filled_USD</th>\n",
       "      <th>premium_vs_inception_bps</th>\n",
       "    </tr>\n",
       "  </thead>\n",
       "  <tbody>\n",
       "    <tr>\n",
       "      <th>0</th>\n",
       "      <td>ETH</td>\n",
       "      <td>0.0</td>\n",
       "      <td>239.24255</td>\n",
       "      <td>12.042042</td>\n",
       "    </tr>\n",
       "    <tr>\n",
       "      <th>1</th>\n",
       "      <td>average</td>\n",
       "      <td>0.0</td>\n",
       "      <td>239.24255</td>\n",
       "      <td>12.042042</td>\n",
       "    </tr>\n",
       "  </tbody>\n",
       "</table>\n",
       "</div>"
      ],
      "text/plain": [
       "     index  perleg_fee_bps  perleg_filled_USD  premium_vs_inception_bps\n",
       "0      ETH             0.0          239.24255                 12.042042\n",
       "1  average             0.0          239.24255                 12.042042"
      ]
     },
     "execution_count": 9,
     "metadata": {},
     "output_type": "execute_result"
    }
   ],
   "source": [
    "print(indexed['all_by_coin'].describe())\n",
    "indexed['all_by_coin']"
   ]
  },
  {
   "cell_type": "markdown",
   "id": "31a06908",
   "metadata": {},
   "source": [
    "# tick to ack"
   ]
  },
  {
   "cell_type": "code",
   "execution_count": 10,
   "id": "b990053f",
   "metadata": {},
   "outputs": [
    {
     "data": {
      "text/html": [
       "<div>\n",
       "<style scoped>\n",
       "    .dataframe tbody tr th:only-of-type {\n",
       "        vertical-align: middle;\n",
       "    }\n",
       "\n",
       "    .dataframe tbody tr th {\n",
       "        vertical-align: top;\n",
       "    }\n",
       "\n",
       "    .dataframe thead th {\n",
       "        text-align: right;\n",
       "    }\n",
       "</style>\n",
       "<table border=\"1\" class=\"dataframe\">\n",
       "  <thead>\n",
       "    <tr style=\"text-align: right;\">\n",
       "      <th></th>\n",
       "      <th>index</th>\n",
       "      <th>symbol</th>\n",
       "      <th>coin</th>\n",
       "      <th>order_ref</th>\n",
       "      <th>pending_local</th>\n",
       "      <th>pending_to_ack_local</th>\n",
       "      <th>mid_at_pending</th>\n",
       "      <th>amount</th>\n",
       "      <th>filled</th>\n",
       "      <th>price</th>\n",
       "      <th>fee</th>\n",
       "      <th>last_fill_local</th>\n",
       "    </tr>\n",
       "  </thead>\n",
       "  <tbody>\n",
       "    <tr>\n",
       "      <th>0</th>\n",
       "      <td>new_ETH/USD:USD_1663343170409</td>\n",
       "      <td>ETH/USD:USD</td>\n",
       "      <td>ETH</td>\n",
       "      <td>1443.6</td>\n",
       "      <td>1.663343e+12</td>\n",
       "      <td>952.629150</td>\n",
       "      <td>1440.00</td>\n",
       "      <td>-0.163</td>\n",
       "      <td>-0.163</td>\n",
       "      <td>1440.1</td>\n",
       "      <td>0</td>\n",
       "      <td>1.663343e+12</td>\n",
       "    </tr>\n",
       "    <tr>\n",
       "      <th>1</th>\n",
       "      <td>new_ETH/USD:USD_1663343907452</td>\n",
       "      <td>ETH/USD:USD</td>\n",
       "      <td>ETH</td>\n",
       "      <td>1443.6</td>\n",
       "      <td>1.663344e+12</td>\n",
       "      <td>350.025879</td>\n",
       "      <td>1450.55</td>\n",
       "      <td>-0.002</td>\n",
       "      <td>-0.002</td>\n",
       "      <td>1450.7</td>\n",
       "      <td>0</td>\n",
       "      <td>1.663344e+12</td>\n",
       "    </tr>\n",
       "    <tr>\n",
       "      <th>2</th>\n",
       "      <td>new_ETH/USD_1663342906968</td>\n",
       "      <td>ETH/USD</td>\n",
       "      <td>ETH</td>\n",
       "      <td>1443.8</td>\n",
       "      <td>1.663343e+12</td>\n",
       "      <td>377.599121</td>\n",
       "      <td>1444.05</td>\n",
       "      <td>0.167</td>\n",
       "      <td>0.167</td>\n",
       "      <td>1442.2</td>\n",
       "      <td>0</td>\n",
       "      <td>1.663343e+12</td>\n",
       "    </tr>\n",
       "  </tbody>\n",
       "</table>\n",
       "</div>"
      ],
      "text/plain": [
       "                           index       symbol coin  order_ref  pending_local  \\\n",
       "0  new_ETH/USD:USD_1663343170409  ETH/USD:USD  ETH     1443.6   1.663343e+12   \n",
       "1  new_ETH/USD:USD_1663343907452  ETH/USD:USD  ETH     1443.6   1.663344e+12   \n",
       "2      new_ETH/USD_1663342906968      ETH/USD  ETH     1443.8   1.663343e+12   \n",
       "\n",
       "   pending_to_ack_local  mid_at_pending  amount  filled   price  fee  \\\n",
       "0            952.629150         1440.00  -0.163  -0.163  1440.1    0   \n",
       "1            350.025879         1450.55  -0.002  -0.002  1450.7    0   \n",
       "2            377.599121         1444.05   0.167   0.167  1442.2    0   \n",
       "\n",
       "   last_fill_local  \n",
       "0     1.663343e+12  \n",
       "1     1.663344e+12  \n",
       "2     1.663343e+12  "
      ]
     },
     "execution_count": 10,
     "metadata": {},
     "output_type": "execute_result"
    },
    {
     "data": {
      "image/png": "[encoded data removed]",
      "text/plain": [
       "<Figure size 720x360 with 1 Axes>"
      ]
     },
     "metadata": {
      "needs_background": "light"
     },
     "output_type": "display_data"
    }
   ],
   "source": [
    "by_clientOrderId = indexed['all_by_clientOrderId']\n",
    "tick_to_order_local = by_clientOrderId[['pending_to_ack_local']]\n",
    "tick_to_order_local.hist(bins=50,figsize=(10,5))\n",
    "tick_to_order_local.describe()\n",
    "by_clientOrderId"
   ]
  },
  {
   "cell_type": "markdown",
   "id": "8a833f6e",
   "metadata": {},
   "source": [
    "# remote vs local (~ round trip)"
   ]
  },
  {
   "cell_type": "code",
   "execution_count": 11,
   "id": "d3931f06",
   "metadata": {},
   "outputs": [
    {
     "data": {
      "text/html": [
       "<div>\n",
       "<style scoped>\n",
       "    .dataframe tbody tr th:only-of-type {\n",
       "        vertical-align: middle;\n",
       "    }\n",
       "\n",
       "    .dataframe tbody tr th {\n",
       "        vertical-align: top;\n",
       "    }\n",
       "\n",
       "    .dataframe thead th {\n",
       "        text-align: right;\n",
       "    }\n",
       "</style>\n",
       "<table border=\"1\" class=\"dataframe\">\n",
       "  <thead>\n",
       "    <tr style=\"text-align: right;\">\n",
       "      <th></th>\n",
       "      <th>round_trip</th>\n",
       "    </tr>\n",
       "  </thead>\n",
       "  <tbody>\n",
       "    <tr>\n",
       "      <th>count</th>\n",
       "      <td>24.000000</td>\n",
       "    </tr>\n",
       "    <tr>\n",
       "      <th>mean</th>\n",
       "      <td>30695.818095</td>\n",
       "    </tr>\n",
       "    <tr>\n",
       "      <th>std</th>\n",
       "      <td>75402.484388</td>\n",
       "    </tr>\n",
       "    <tr>\n",
       "      <th>min</th>\n",
       "      <td>0.023926</td>\n",
       "    </tr>\n",
       "    <tr>\n",
       "      <th>25%</th>\n",
       "      <td>219.875122</td>\n",
       "    </tr>\n",
       "    <tr>\n",
       "      <th>50%</th>\n",
       "      <td>319.496826</td>\n",
       "    </tr>\n",
       "    <tr>\n",
       "      <th>75%</th>\n",
       "      <td>10447.899902</td>\n",
       "    </tr>\n",
       "    <tr>\n",
       "      <th>max</th>\n",
       "      <td>349876.993652</td>\n",
       "    </tr>\n",
       "  </tbody>\n",
       "</table>\n",
       "</div>"
      ],
      "text/plain": [
       "          round_trip\n",
       "count      24.000000\n",
       "mean    30695.818095\n",
       "std     75402.484388\n",
       "min         0.023926\n",
       "25%       219.875122\n",
       "50%       319.496826\n",
       "75%     10447.899902\n",
       "max    349876.993652"
      ]
     },
     "execution_count": 11,
     "metadata": {},
     "output_type": "execute_result"
    },
    {
     "data": {
      "image/png": "[encoded data removed]",
      "text/plain": [
       "<Figure size 1440x720 with 1 Axes>"
      ]
     },
     "metadata": {
      "needs_background": "light"
     },
     "output_type": "display_data"
    }
   ],
   "source": [
    "round_trip = pd.DataFrame(columns=['round_trip'], data = 2*(indexed['all_order_manager']['timestamp']-indexed['all_order_manager']['remote_timestamp']))\n",
    "round_trip.hist(bins=50,figsize=(20,10))\n",
    "round_trip.describe()\n",
    "#indexed['all_order_manager'][['timestamp','remote_timestamp']] - indexed['all_parameters']['timestamp'].squeeze()"
   ]
  },
  {
   "cell_type": "code",
   "execution_count": null,
   "id": "c8c5a68c",
   "metadata": {},
   "outputs": [],
   "source": []
  }
 ],
 "metadata": {
  "kernelspec": {
   "display_name": "Python 3 (ipykernel)",
   "language": "python",
   "name": "python3"
  },
  "language_info": {
   "codemirror_mode": {
    "name": "ipython",
    "version": 3
   },
   "file_extension": ".py",
   "mimetype": "text/x-python",
   "name": "python",
   "nbconvert_exporter": "python",
   "pygments_lexer": "ipython3",
   "version": "3.9.13"
  }
 },
 "nbformat": 4,
 "nbformat_minor": 5
}
