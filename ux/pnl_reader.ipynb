{
 "cells": [
  {
   "cell_type": "code",
   "execution_count": 1,
   "id": "63c817f5",
   "metadata": {},
   "outputs": [
    {
     "data": {
      "text/html": [
       "        <script type=\"text/javascript\">\n",
       "        window.PlotlyConfig = {MathJaxConfig: 'local'};\n",
       "        if (window.MathJax && window.MathJax.Hub && window.MathJax.Hub.Config) {window.MathJax.Hub.Config({SVG: {font: \"STIX-Web\"}});}\n",
       "        if (typeof require !== 'undefined') {\n",
       "        require.undef(\"plotly\");\n",
       "        requirejs.config({\n",
       "            paths: {\n",
       "                'plotly': ['https://cdn.plot.ly/plotly-2.12.1.min']\n",
       "            }\n",
       "        });\n",
       "        require(['plotly'], function(Plotly) {\n",
       "            window._Plotly = Plotly;\n",
       "        });\n",
       "        }\n",
       "        </script>\n",
       "        "
      ]
     },
     "metadata": {},
     "output_type": "display_data"
    }
   ],
   "source": [
    "from jupyter_imports import *"
   ]
  },
  {
   "cell_type": "code",
   "execution_count": 2,
   "id": "97579ec5",
   "metadata": {},
   "outputs": [],
   "source": [
    "%%bash \n",
    "source ~/.bashrc\n",
    "#cache_config"
   ]
  },
  {
   "cell_type": "code",
   "execution_count": 3,
   "id": "01a8cd5b",
   "metadata": {},
   "outputs": [],
   "source": [
    "dirname = os.path.join(os.sep, 'home','david','config','prod')\n",
    "original_risk = pd.read_csv(os.path.join(os.sep, dirname ,'all_risk.csv'),parse_dates=['time'])\n",
    "original_pnl = pd.read_csv(os.path.join(os.sep, dirname,'all_pnl.csv'),parse_dates=['time','start_time'])"
   ]
  },
  {
   "cell_type": "code",
   "execution_count": 4,
   "id": "38500ae0",
   "metadata": {
    "scrolled": true
   },
   "outputs": [
    {
     "name": "stderr",
     "output_type": "stream",
     "text": [
      "/tmp/ipykernel_1421654/1667510151.py:6: UserWarning:\n",
      "\n",
      "Boolean Series key will be reindexed to match DataFrame index.\n",
      "\n"
     ]
    }
   ],
   "source": [
    "exchange = 'ftx'\n",
    "subaccount = 'debug'\n",
    "end = datetime.utcnow().replace(tzinfo=timezone.utc)\n",
    "start = end - timedelta(days = 7)\n",
    "pnl = original_pnl[(original_pnl['time']>start)&(original_pnl['time']<end)&(original_pnl['subaccount']==subaccount)&(original_pnl['exchange']==exchange)]\n",
    "risk = original_risk[(original_risk['time']>start)&(original_risk['time']<end)&(original_pnl['subaccount']==subaccount)&(original_pnl['exchange']==exchange)]"
   ]
  },
  {
   "cell_type": "code",
   "execution_count": 5,
   "id": "b10d382f",
   "metadata": {
    "scrolled": true
   },
   "outputs": [],
   "source": [
    "def category(event_type):\n",
    "    if event_type in ['future_trade','spot_trade','txFee']: return 'trades' \n",
    "    if event_type in ['funding','borrow']: return 'carry' \n",
    "    if event_type in ['delta','IR01']: return 'risk' \n",
    "    if event_type in ['unexplained']: return 'unexplained'\n",
    "pnl['category'] = pnl['event_type'].apply(category)"
   ]
  },
  {
   "cell_type": "markdown",
   "id": "83e127d3",
   "metadata": {},
   "source": [
    "# Cumulative pnl  by category"
   ]
  },
  {
   "cell_type": "code",
   "execution_count": 6,
   "id": "6425a479",
   "metadata": {},
   "outputs": [
    {
     "ename": "PlotlyEmptyDataError",
     "evalue": "Empty data list found. Make sure that you populated the list of data objects you're sending and try again.\nQuestions? Visit support.plot.ly",
     "output_type": "error",
     "traceback": [
      "\u001b[0;31m---------------------------------------------------------------------------\u001b[0m",
      "\u001b[0;31mPlotlyEmptyDataError\u001b[0m                      Traceback (most recent call last)",
      "Input \u001b[0;32mIn [6]\u001b[0m, in \u001b[0;36m<cell line: 1>\u001b[0;34m()\u001b[0m\n\u001b[0;32m----> 1\u001b[0m \u001b[43mpnl\u001b[49m\u001b[38;5;241;43m.\u001b[39;49m\u001b[43mpivot_table\u001b[49m\u001b[43m(\u001b[49m\u001b[43mindex\u001b[49m\u001b[38;5;241;43m=\u001b[39;49m\u001b[38;5;124;43m'\u001b[39;49m\u001b[38;5;124;43mtime\u001b[39;49m\u001b[38;5;124;43m'\u001b[39;49m\u001b[43m,\u001b[49m\u001b[43mcolumns\u001b[49m\u001b[38;5;241;43m=\u001b[39;49m\u001b[38;5;124;43m'\u001b[39;49m\u001b[38;5;124;43mcategory\u001b[39;49m\u001b[38;5;124;43m'\u001b[39;49m\u001b[43m,\u001b[49m\u001b[43mvalues\u001b[49m\u001b[38;5;241;43m=\u001b[39;49m\u001b[38;5;124;43m'\u001b[39;49m\u001b[38;5;124;43mUSDamt\u001b[39;49m\u001b[38;5;124;43m'\u001b[39;49m\u001b[43m)\u001b[49m\u001b[38;5;241;43m.\u001b[39;49m\u001b[43mcumsum\u001b[49m\u001b[43m(\u001b[49m\u001b[43m)\u001b[49m\u001b[38;5;241;43m.\u001b[39;49m\u001b[43miplot\u001b[49m\u001b[43m(\u001b[49m\u001b[43m)\u001b[49m\n",
      "File \u001b[0;32m~/Sety-project/pylibs/.venv3.9/lib/python3.9/site-packages/cufflinks/plotlytools.py:1216\u001b[0m, in \u001b[0;36m_iplot\u001b[0;34m(self, kind, data, layout, filename, sharing, title, xTitle, yTitle, zTitle, theme, colors, colorscale, fill, width, dash, mode, interpolation, symbol, size, barmode, sortbars, bargap, bargroupgap, bins, histnorm, histfunc, orientation, boxpoints, annotations, keys, bestfit, bestfit_colors, mean, mean_colors, categories, x, y, z, text, gridcolor, zerolinecolor, margin, labels, values, secondary_y, secondary_y_title, subplots, shape, error_x, error_y, error_type, locations, lon, lat, asFrame, asDates, asFigure, asImage, dimensions, asPlot, asUrl, online, **kwargs)\u001b[0m\n\u001b[1;32m   1214\u001b[0m \t\u001b[38;5;28;01mreturn\u001b[39;00m Figure(figure)\n\u001b[1;32m   1215\u001b[0m \u001b[38;5;28;01melse\u001b[39;00m:\n\u001b[0;32m-> 1216\u001b[0m \t\u001b[38;5;28;01mreturn\u001b[39;00m \u001b[43miplot\u001b[49m\u001b[43m(\u001b[49m\u001b[43mfigure\u001b[49m\u001b[43m,\u001b[49m\u001b[43mvalidate\u001b[49m\u001b[38;5;241;43m=\u001b[39;49m\u001b[43mvalidate\u001b[49m\u001b[43m,\u001b[49m\u001b[43msharing\u001b[49m\u001b[38;5;241;43m=\u001b[39;49m\u001b[43msharing\u001b[49m\u001b[43m,\u001b[49m\u001b[43mfilename\u001b[49m\u001b[38;5;241;43m=\u001b[39;49m\u001b[43mfilename\u001b[49m\u001b[43m,\u001b[49m\n\u001b[1;32m   1217\u001b[0m \u001b[43m\t\t \u001b[49m\u001b[43monline\u001b[49m\u001b[38;5;241;43m=\u001b[39;49m\u001b[43monline\u001b[49m\u001b[43m,\u001b[49m\u001b[43masImage\u001b[49m\u001b[38;5;241;43m=\u001b[39;49m\u001b[43masImage\u001b[49m\u001b[43m,\u001b[49m\u001b[43masUrl\u001b[49m\u001b[38;5;241;43m=\u001b[39;49m\u001b[43masUrl\u001b[49m\u001b[43m,\u001b[49m\u001b[43masPlot\u001b[49m\u001b[38;5;241;43m=\u001b[39;49m\u001b[43masPlot\u001b[49m\u001b[43m,\u001b[49m\n\u001b[1;32m   1218\u001b[0m \u001b[43m\t\t \u001b[49m\u001b[43mdimensions\u001b[49m\u001b[38;5;241;43m=\u001b[39;49m\u001b[43mdimensions\u001b[49m\u001b[43m,\u001b[49m\u001b[43mdisplay_image\u001b[49m\u001b[38;5;241;43m=\u001b[39;49m\u001b[43mkwargs\u001b[49m\u001b[38;5;241;43m.\u001b[39;49m\u001b[43mget\u001b[49m\u001b[43m(\u001b[49m\u001b[38;5;124;43m'\u001b[39;49m\u001b[38;5;124;43mdisplay_image\u001b[39;49m\u001b[38;5;124;43m'\u001b[39;49m\u001b[43m,\u001b[49m\u001b[38;5;28;43;01mTrue\u001b[39;49;00m\u001b[43m)\u001b[49m\u001b[43m)\u001b[49m\n",
      "File \u001b[0;32m~/Sety-project/pylibs/.venv3.9/lib/python3.9/site-packages/cufflinks/plotlytools.py:1468\u001b[0m, in \u001b[0;36miplot\u001b[0;34m(figure, validate, sharing, filename, online, asImage, asUrl, asPlot, dimensions, display_image, **kwargs)\u001b[0m\n\u001b[1;32m   1466\u001b[0m \u001b[38;5;66;03m## iplot\u001b[39;00m\n\u001b[1;32m   1467\u001b[0m \u001b[38;5;28;01mif\u001b[39;00m offline\u001b[38;5;241m.\u001b[39mis_offline() \u001b[38;5;129;01mand\u001b[39;00m \u001b[38;5;129;01mnot\u001b[39;00m online:\t\n\u001b[0;32m-> 1468\u001b[0m \t\u001b[38;5;28;01mreturn\u001b[39;00m \u001b[43moffline\u001b[49m\u001b[38;5;241;43m.\u001b[39;49m\u001b[43mpy_offline\u001b[49m\u001b[38;5;241;43m.\u001b[39;49m\u001b[43miplot\u001b[49m\u001b[43m(\u001b[49m\u001b[43mfigure\u001b[49m\u001b[43m,\u001b[49m\u001b[43m \u001b[49m\u001b[43mvalidate\u001b[49m\u001b[38;5;241;43m=\u001b[39;49m\u001b[43mvalidate\u001b[49m\u001b[43m,\u001b[49m\u001b[43m \u001b[49m\u001b[43mfilename\u001b[49m\u001b[38;5;241;43m=\u001b[39;49m\u001b[43mfilename\u001b[49m\u001b[43m,\u001b[49m\u001b[43m \u001b[49m\u001b[43mshow_link\u001b[49m\u001b[38;5;241;43m=\u001b[39;49m\u001b[43mshow_link\u001b[49m\u001b[43m,\u001b[49m\u001b[43m \u001b[49m\u001b[43mlink_text\u001b[49m\u001b[38;5;241;43m=\u001b[39;49m\u001b[43mlink_text\u001b[49m\u001b[43m,\u001b[49m\u001b[43m \u001b[49m\u001b[43mconfig\u001b[49m\u001b[38;5;241;43m=\u001b[39;49m\u001b[43mconfig\u001b[49m\u001b[43m)\u001b[49m\n\u001b[1;32m   1469\u001b[0m \u001b[38;5;28;01melse\u001b[39;00m:\t\t\n\u001b[1;32m   1470\u001b[0m \t\u001b[38;5;28;01mreturn\u001b[39;00m py\u001b[38;5;241m.\u001b[39miplot(figure,validate\u001b[38;5;241m=\u001b[39mvalidate,sharing\u001b[38;5;241m=\u001b[39msharing,\n\u001b[1;32m   1471\u001b[0m \t\t\t\t\tfilename\u001b[38;5;241m=\u001b[39mfilename)\n",
      "File \u001b[0;32m~/Sety-project/pylibs/.venv3.9/lib/python3.9/site-packages/plotly/offline/offline.py:384\u001b[0m, in \u001b[0;36miplot\u001b[0;34m(figure_or_data, show_link, link_text, validate, image, filename, image_width, image_height, config, auto_play, animation_opts)\u001b[0m\n\u001b[1;32m    381\u001b[0m config\u001b[38;5;241m.\u001b[39msetdefault(\u001b[38;5;124m\"\u001b[39m\u001b[38;5;124mlinkText\u001b[39m\u001b[38;5;124m\"\u001b[39m, link_text)\n\u001b[1;32m    383\u001b[0m \u001b[38;5;66;03m# Get figure\u001b[39;00m\n\u001b[0;32m--> 384\u001b[0m figure \u001b[38;5;241m=\u001b[39m \u001b[43mtools\u001b[49m\u001b[38;5;241;43m.\u001b[39;49m\u001b[43mreturn_figure_from_figure_or_data\u001b[49m\u001b[43m(\u001b[49m\u001b[43mfigure_or_data\u001b[49m\u001b[43m,\u001b[49m\u001b[43m \u001b[49m\u001b[43mvalidate\u001b[49m\u001b[43m)\u001b[49m\n\u001b[1;32m    386\u001b[0m \u001b[38;5;66;03m# Handle image request\u001b[39;00m\n\u001b[1;32m    387\u001b[0m post_script \u001b[38;5;241m=\u001b[39m build_save_image_post_script(\n\u001b[1;32m    388\u001b[0m     image, filename, image_height, image_width, \u001b[38;5;124m\"\u001b[39m\u001b[38;5;124miplot\u001b[39m\u001b[38;5;124m\"\u001b[39m\n\u001b[1;32m    389\u001b[0m )\n",
      "File \u001b[0;32m~/Sety-project/pylibs/.venv3.9/lib/python3.9/site-packages/plotly/tools.py:566\u001b[0m, in \u001b[0;36mreturn_figure_from_figure_or_data\u001b[0;34m(figure_or_data, validate_figure)\u001b[0m\n\u001b[1;32m    554\u001b[0m         \u001b[38;5;28;01mraise\u001b[39;00m exceptions\u001b[38;5;241m.\u001b[39mPlotlyError(\n\u001b[1;32m    555\u001b[0m             \u001b[38;5;124m\"\u001b[39m\u001b[38;5;124mInvalid \u001b[39m\u001b[38;5;124m'\u001b[39m\u001b[38;5;124mfigure_or_data\u001b[39m\u001b[38;5;124m'\u001b[39m\u001b[38;5;124m argument. \u001b[39m\u001b[38;5;124m\"\u001b[39m\n\u001b[1;32m    556\u001b[0m             \u001b[38;5;124m\"\u001b[39m\u001b[38;5;124mPlotly will not be able to properly \u001b[39m\u001b[38;5;124m\"\u001b[39m\n\u001b[0;32m   (...)\u001b[0m\n\u001b[1;32m    563\u001b[0m             \u001b[38;5;124m\"\u001b[39m\u001b[38;5;124m\"\u001b[39m\u001b[38;5;241m.\u001b[39mformat(err)\n\u001b[1;32m    564\u001b[0m         )\n\u001b[1;32m    565\u001b[0m     \u001b[38;5;28;01mif\u001b[39;00m \u001b[38;5;129;01mnot\u001b[39;00m figure[\u001b[38;5;124m\"\u001b[39m\u001b[38;5;124mdata\u001b[39m\u001b[38;5;124m\"\u001b[39m]:\n\u001b[0;32m--> 566\u001b[0m         \u001b[38;5;28;01mraise\u001b[39;00m exceptions\u001b[38;5;241m.\u001b[39mPlotlyEmptyDataError(\n\u001b[1;32m    567\u001b[0m             \u001b[38;5;124m\"\u001b[39m\u001b[38;5;124mEmpty data list found. Make sure that you populated the \u001b[39m\u001b[38;5;124m\"\u001b[39m\n\u001b[1;32m    568\u001b[0m             \u001b[38;5;124m\"\u001b[39m\u001b[38;5;124mlist of data objects you\u001b[39m\u001b[38;5;124m'\u001b[39m\u001b[38;5;124mre sending and try again.\u001b[39m\u001b[38;5;130;01m\\n\u001b[39;00m\u001b[38;5;124m\"\u001b[39m\n\u001b[1;32m    569\u001b[0m             \u001b[38;5;124m\"\u001b[39m\u001b[38;5;124mQuestions? Visit support.plot.ly\u001b[39m\u001b[38;5;124m\"\u001b[39m\n\u001b[1;32m    570\u001b[0m         )\n\u001b[1;32m    572\u001b[0m \u001b[38;5;28;01mreturn\u001b[39;00m figure\n",
      "\u001b[0;31mPlotlyEmptyDataError\u001b[0m: Empty data list found. Make sure that you populated the list of data objects you're sending and try again.\nQuestions? Visit support.plot.ly"
     ]
    }
   ],
   "source": [
    "pnl.pivot_table(index='time',columns='category',values='USDamt').cumsum().iplot()"
   ]
  },
  {
   "cell_type": "code",
   "execution_count": null,
   "id": "29eb7d23",
   "metadata": {},
   "outputs": [],
   "source": [
    "original_pnl.columns"
   ]
  },
  {
   "cell_type": "markdown",
   "id": "997e7eba",
   "metadata": {},
   "source": [
    "# risk by coin"
   ]
  },
  {
   "cell_type": "code",
   "execution_count": null,
   "id": "55fb9355",
   "metadata": {},
   "outputs": [],
   "source": [
    "risk[(risk['event_type']=='delta')&(risk['attribution'].apply(lambda f: f!='USD' and 'PERP' not in f))].pivot_table(index='time',columns='attribution',values='usdAmt',aggfunc=sum).iplot()"
   ]
  },
  {
   "cell_type": "markdown",
   "id": "b4c85c65",
   "metadata": {},
   "source": [
    "# PV"
   ]
  },
  {
   "cell_type": "code",
   "execution_count": null,
   "id": "048b44a0",
   "metadata": {},
   "outputs": [],
   "source": [
    " risk[risk['event_type']=='PV'].pivot_table(index='time',columns='attribution',values='usdAmt',aggfunc=sum).iplot()"
   ]
  },
  {
   "cell_type": "code",
   "execution_count": null,
   "id": "5cd4fbac",
   "metadata": {},
   "outputs": [],
   "source": []
  }
 ],
 "metadata": {
  "kernelspec": {
   "display_name": "Python 3 (ipykernel)",
   "language": "python",
   "name": "python3"
  },
  "language_info": {
   "codemirror_mode": {
    "name": "ipython",
    "version": 3
   },
   "file_extension": ".py",
   "mimetype": "text/x-python",
   "name": "python",
   "nbconvert_exporter": "python",
   "pygments_lexer": "ipython3",
   "version": "3.9.13"
  }
 },
 "nbformat": 4,
 "nbformat_minor": 5
}
