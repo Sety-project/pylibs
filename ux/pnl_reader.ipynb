{
 "cells": [
  {
   "cell_type": "code",
   "execution_count": null,
   "id": "c87ec23c",
   "metadata": {},
   "outputs": [],
   "source": [
    "from jupyter_imports import *"
   ]
  },
  {
   "cell_type": "code",
   "execution_count": null,
   "id": "d0e57f53",
   "metadata": {},
   "outputs": [],
   "source": [
    "original_risk = pd.read_excel(os.path.join(os.sep, 'tmp','prod', 'pnl','portfolio_history_ftx_SysPerp.xlsx'),sheet_name='risk')\n",
    "original_pnl = pd.read_excel(os.path.join(os.sep, 'tmp','prod', 'pnl','portfolio_history_ftx_SysPerp.xlsx'),sheet_name='pnl')"
   ]
  },
  {
   "cell_type": "code",
   "execution_count": null,
   "id": "83891a15",
   "metadata": {},
   "outputs": [],
   "source": [
    "end = datetime.now()\n",
    "start = end - timedelta(days = 7)\n",
    "pnl = original_pnl[(original_pnl['time']>start)&(original_pnl['time']<end)]\n",
    "risk = original_risk[(original_risk['time']>start)&(original_risk['time']<end)]"
   ]
  },
  {
   "cell_type": "code",
   "execution_count": null,
   "id": "1c6eb0e6",
   "metadata": {
    "scrolled": true
   },
   "outputs": [],
   "source": [
    "def category(event_type):\n",
    "    if event_type in ['future_trade','spot_trade','txFee']: return 'trades' \n",
    "    if event_type in ['funding','borrow']: return 'carry' \n",
    "    if event_type in ['delta','IR01','unexplained']: return 'risk' \n",
    "pnl['category'] = pnl['event_type'].apply(category)"
   ]
  },
  {
   "cell_type": "code",
   "execution_count": null,
   "id": "b84aaf2c",
   "metadata": {},
   "outputs": [],
   "source": [
    "pnl.pivot_table(index='time',columns='category',values='USDamt').cumsum().iplot()"
   ]
  },
  {
   "cell_type": "code",
   "execution_count": null,
   "id": "3010bbf3",
   "metadata": {},
   "outputs": [],
   "source": [
    "original_weights['log_time'] = original_weights['log_time'].apply(parser.parse)"
   ]
  }
 ],
 "metadata": {
  "kernelspec": {
   "display_name": "Python 3 (ipykernel)",
   "language": "python",
   "name": "python3"
  },
  "language_info": {
   "codemirror_mode": {
    "name": "ipython",
    "version": 3
   },
   "file_extension": ".py",
   "mimetype": "text/x-python",
   "name": "python",
   "nbconvert_exporter": "python",
   "pygments_lexer": "ipython3",
   "version": "3.9.13"
  }
 },
 "nbformat": 4,
 "nbformat_minor": 5
}
