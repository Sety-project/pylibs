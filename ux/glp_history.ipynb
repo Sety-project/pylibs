{
 "cells": [
  {
   "cell_type": "code",
   "execution_count": null,
   "id": "5bc6484e",
   "metadata": {},
   "outputs": [],
   "source": [
    "from jupyter_imports import *\n",
    "from utils.config_loader import configLoader\n",
    "from utils.io_utils import nested_dict_to_tuple"
   ]
  },
  {
   "cell_type": "code",
   "execution_count": null,
   "id": "2486ddf8",
   "metadata": {},
   "outputs": [],
   "source": [
    "filename = os.path.join(os.sep,configLoader.get_mktdata_folder_for_exchange('gmx_tickdata'),'pnlexplain.json')\n",
    "with open(filename, 'r') as f:\n",
    "    list_input = json.load(f)\n",
    "    data = [nested_dict_to_tuple(mapping) for mapping in list_input]"
   ]
  },
  {
   "cell_type": "code",
   "execution_count": null,
   "id": "c46c0630",
   "metadata": {},
   "outputs": [],
   "source": [
    "df = pd.DataFrame(data)\n",
    "df.columns = pd.MultiIndex.from_tuples(list(df.columns))\n",
    "#df.rename(columns={('timestamp',np.nan):'timestamp'})\n",
    "df.set_index(('timestamp',None),inplace=True)\n",
    "df = df.swaplevel(axis=1).sort_index(axis=1)\n",
    "df.to_csv(filename.replace('.json','.csv'))"
   ]
  },
  {
   "cell_type": "code",
   "execution_count": null,
   "id": "2127b4ae",
   "metadata": {
    "scrolled": true
   },
   "outputs": [],
   "source": [
    "newdf = pd.DataFrame()\n",
    "newdf['dV'] = df[('total','valuation')].diff(periods=1)\n",
    "newdf['non_delta_pnl'] = (df[('total','delta_pnl')]-newdf['dV']).cumsum()\n",
    "newdf['val_error'] = df[('total','valuation')]/df[('total','actualAum')]-1\n",
    "newdf.iplot(secondary_y=['dV'])"
   ]
  },
  {
   "cell_type": "code",
   "execution_count": null,
   "id": "bd055979",
   "metadata": {},
   "outputs": [],
   "source": [
    "newdf = pd.DataFrame()\n",
    "newdf['dV'] = df[('total','valuation')].diff(periods=1)\n",
    "newdf['non_delta_pnl'] = (df[('total','delta_pnl')]-newdf['dV']).cumsum()\n",
    "newdf.iplot(secondary_y=['dV'])"
   ]
  }
 ],
 "metadata": {
  "kernelspec": {
   "display_name": "Python 3 (ipykernel)",
   "language": "python",
   "name": "python3"
  },
  "language_info": {
   "codemirror_mode": {
    "name": "ipython",
    "version": 3
   },
   "file_extension": ".py",
   "mimetype": "text/x-python",
   "name": "python",
   "nbconvert_exporter": "python",
   "pygments_lexer": "ipython3",
   "version": "3.9.14"
  }
 },
 "nbformat": 4,
 "nbformat_minor": 5
}
