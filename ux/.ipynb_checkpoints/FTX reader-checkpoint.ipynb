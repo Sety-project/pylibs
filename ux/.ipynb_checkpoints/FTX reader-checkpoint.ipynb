{
 "cells": [
  {
   "cell_type": "markdown",
   "id": "74d3b150",
   "metadata": {},
   "source": [
    "# FTX reader"
   ]
  },
  {
   "cell_type": "code",
   "execution_count": null,
   "id": "1d2c795a",
   "metadata": {},
   "outputs": [],
   "source": [
    "from jupyter_imports import *\n",
    "from utils.io_utils import *\n",
    "from histfeed.ftx_history import main\n",
    "\n",
    "end_time= datetime.now(timezone.utc)-timedelta(days=1)#.replace(minute=0,second=0,microsecond=0)\n",
    "start_time= end_time-timedelta(days=10)\n",
    "halflife=timedelta(days=1)\n",
    "modes=[('h','high'),('c','close'),('l','low'),('v','size')]"
   ]
  },
  {
   "cell_type": "code",
   "execution_count": null,
   "id": "40a4c2b6",
   "metadata": {},
   "outputs": [],
   "source": [
    "weights = pd.read_csv(os.path.join(os.sep, 'home','david',\"config\", \"pfoptimizer\",'current_weights.csv')).sort_values(by='optimalWeight',key=lambda f: np.abs(f),ascending=False)\n",
    "coins = list(weights.set_index(['name']).drop(['USD','total']).head(5).index.map(lambda f: f.replace('-PERP','')))\n",
    "weights"
   ]
  },
  {
   "cell_type": "code",
   "execution_count": null,
   "id": "3f227ce8",
   "metadata": {
    "scrolled": true
   },
   "outputs": [],
   "source": [
    "futures_df = main([None,'get','ftx','wide','5'])"
   ]
  },
  {
   "cell_type": "markdown",
   "id": "eaf76396",
   "metadata": {},
   "source": [
    "### rates markets"
   ]
  },
  {
   "cell_type": "code",
   "execution_count": null,
   "id": "030de64c",
   "metadata": {
    "scrolled": true
   },
   "outputs": [],
   "source": [
    "selected = [df for df in futures_df.columns if any(df.split('-')[0].split('_')[0]==coin for coin in (coins+['USD']))]\n",
    "prices=futures_df[[c for c in selected if any(string in c for string in ['price_c'])]]\n",
    "\n",
    "short_rates=futures_df[[c for c in selected if any(string in c for string in ['PERP_rate_c','rate_borrow'])]]\n",
    "short_rates=short_rates.ewm(halflife=halflife,times=short_rates.index).mean()\n",
    "\n",
    "borrow_size=futures_df[[c for c in selected if any(string in c for string in ['_rate_size','price_volume'])]]\n",
    "\n",
    "for c in coins:\n",
    "    long_perp_carry=short_rates[c+'-PERP_rate_c']-short_rates['USD_rate_borrow']\n",
    "    short_perp_carry=-short_rates[c+'-PERP_rate_c']-short_rates[c+'_rate_borrow']\n",
    "    short_rates[c+'_best_perp_carry']= pd.concat([long_perp_carry, short_perp_carry]).max(level=0)\n",
    "   # long_rates[c+'_long_future_carry']=long_rates[c+'-1231_rate_c']-short_rates['USD_rate_borrow']\n",
    "   # long_rates[c+'_short_future_carry']=-long_rates[c+'-1231_rate_c']-short_rates[c+'_rate_borrow']\n",
    "\n",
    "short_rates.filter(like='_best_perp_carry').iplot()#))"
   ]
  },
  {
   "cell_type": "code",
   "execution_count": null,
   "id": "911a0016",
   "metadata": {},
   "outputs": [],
   "source": [
    "short_rates.filter(like='PERP_rate_c').iplot()#))"
   ]
  },
  {
   "cell_type": "code",
   "execution_count": null,
   "id": "f19b4ba3",
   "metadata": {
    "scrolled": false
   },
   "outputs": [],
   "source": [
    "short_rates.filter(like='borrow').iplot()#))"
   ]
  },
  {
   "cell_type": "code",
   "execution_count": null,
   "id": "e95595eb",
   "metadata": {
    "scrolled": true
   },
   "outputs": [],
   "source": [
    "pd.concat([borrow_size],axis=0).rolling(720).mean().iplot()#))"
   ]
  },
  {
   "cell_type": "markdown",
   "id": "1e0b9d27",
   "metadata": {},
   "source": [
    "### carry directionality"
   ]
  },
  {
   "cell_type": "code",
   "execution_count": null,
   "id": "3a433628",
   "metadata": {},
   "outputs": [],
   "source": [
    "plotthat = futures_df[['BNB-PERP/rate/h',\n",
    "       'BNB-PERP/rate/l', 'BNB-PERP/rate/c']]\n",
    "plotthat.columns=['h','l','c']"
   ]
  },
  {
   "cell_type": "code",
   "execution_count": null,
   "id": "6b659a61",
   "metadata": {},
   "outputs": [],
   "source": [
    "import plotly.graph_objects as go\n",
    "import numpy as np\n",
    "fig = go.Figure()\n",
    "\n",
    "fig.add_trace(go.Scatter(\n",
    "    x=plotthat.index,#+x_rev,\n",
    "    y=0.5*(plotthat['l'].values+plotthat['h'].values),\n",
    "    fill='toself',\n",
    "    fillcolor='rgba(0,100,80,0.2)',\n",
    "    line_color='rgba(255,255,255,0)',\n",
    "    showlegend=False,\n",
    "    name='BNB',\n",
    "))\n",
    "fig.add_trace(go.Scatter(\n",
    "    x=plotthat.index, y=plotthat['c'].values,\n",
    "    line_color='rgb(0,100,80)',\n",
    "    name='Fair',\n",
    "))\n",
    "\n",
    "fig.update_traces(mode='lines')\n",
    "fig.show()"
   ]
  },
  {
   "cell_type": "code",
   "execution_count": null,
   "id": "49288699",
   "metadata": {},
   "outputs": [],
   "source": [
    "pd.concat([prices,short_rates.filter(like='carry')],axis=0).iplot(secondary_y=list(prices.columns))"
   ]
  },
  {
   "cell_type": "markdown",
   "id": "b8dbc4c7",
   "metadata": {},
   "source": [
    "# stopout: show min/max of premiums"
   ]
  },
  {
   "cell_type": "code",
   "execution_count": null,
   "id": "ab473d2c",
   "metadata": {
    "scrolled": true
   },
   "outputs": [],
   "source": [
    "end_time=datetime.now(timezone.utc)#.replace(minute=0,second=0,microsecond=0)\n",
    "start_time=end_time-timedelta(hours=1)\n",
    "granular_df=ftx_history(dirname='',start=start_time,end=end_time,timeframe='15s',coin_list=coins)"
   ]
  },
  {
   "cell_type": "code",
   "execution_count": null,
   "id": "a1c4d6bf",
   "metadata": {},
   "outputs": [],
   "source": [
    "def compute_premium(df: pd.DataFrame,mode=1) -> pd.Series:\n",
    "    return (df.filter(like='/mark/'+ modes[mode][0]).iloc[:,0]/df.filter(like='/indexes/'+modes[mode][1]).iloc[:,0]-1)*10000\n",
    "def compute_premium_vs_spot(df: pd.DataFrame,mode=1) -> pd.Series:\n",
    "    return (df.filter(like='/mark/'+ modes[mode][0]).iloc[:,0]/df.filter(like='/price/'+modes[mode][0]).iloc[:,0]-1)*10000\n",
    "def compile_list(premium_list: list) -> pd.DataFrame:\n",
    "    premium=premium_list[0]\n",
    "    for df in premium_list[1:]:\n",
    "        premium=premium.join(df,how='outer')\n",
    "    return premium[~premium.index.duplicated()]"
   ]
  },
  {
   "cell_type": "code",
   "execution_count": null,
   "id": "b1a56bf5",
   "metadata": {},
   "outputs": [],
   "source": [
    "granular_df['premium']=compute_premium_vs_spot(granular_df)\n",
    "prices=granular_df[[c+'/price/c' for c in coins]]\n",
    "granular_df[['premium']].iplot()"
   ]
  },
  {
   "cell_type": "code",
   "execution_count": null,
   "id": "0ba776bb",
   "metadata": {},
   "outputs": [],
   "source": [
    "premium=compute_premium(granular_df,mode=0)\n",
    "ewMax=premium.resample('1h').max()\n",
    "ewMax=ewMax[~ewMax.index.duplicated()]\n",
    "pd.concat([prices,ewMax],axis=0).iplot(secondary_y=list(prices.columns))"
   ]
  },
  {
   "cell_type": "code",
   "execution_count": null,
   "id": "bd76edd9",
   "metadata": {},
   "outputs": [],
   "source": [
    "premium=compute_premium(granular_df,mode=2)\n",
    "ewMin=premium.resample('1h').min()\n",
    "ewMin=ewMin[~ewMin.index.duplicated()]\n",
    "pd.concat([prices,ewMin],axis=0).iplot(secondary_y=list(prices.columns))"
   ]
  },
  {
   "cell_type": "code",
   "execution_count": null,
   "id": "1253f6ba",
   "metadata": {},
   "outputs": [],
   "source": []
  }
 ],
 "metadata": {
  "kernelspec": {
   "display_name": "Python 3 (ipykernel)",
   "language": "python",
   "name": "python3"
  },
  "language_info": {
   "codemirror_mode": {
    "name": "ipython",
    "version": 3
   },
   "file_extension": ".py",
   "mimetype": "text/x-python",
   "name": "python",
   "nbconvert_exporter": "python",
   "pygments_lexer": "ipython3",
   "version": "3.9.13"
  }
 },
 "nbformat": 4,
 "nbformat_minor": 5
}
