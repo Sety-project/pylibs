{
 "cells": [
  {
   "cell_type": "code",
   "execution_count": null,
   "id": "f21b0a07",
   "metadata": {},
   "outputs": [],
   "source": [
    "import os,sys\n",
    "from dateutil import parser\n",
    "from datetime import *\n",
    "import numpy as np\n",
    "import pandas as pd\n",
    "\n",
    "from plotly.subplots import make_subplots\n",
    "import plotly.graph_objects as go\n",
    "import cufflinks as cf\n",
    "cf.go_offline()\n",
    "cf.set_config_file(offline=False, world_readable=True)"
   ]
  },
  {
   "cell_type": "code",
   "execution_count": null,
   "id": "ccb8288b",
   "metadata": {},
   "outputs": [],
   "source": [
    "original_pnl = pd.read_csv(os.path.join(os.sep, 'home','david','presentation','rawdata','28jun_pnl.csv'),parse_dates=['end_time'])\n",
    "original_trajectory = pd.read_csv(os.path.join(os.sep, 'home','david','presentation','rawdata','28jun_trajectory.csv'),parse_dates=['time'])"
   ]
  },
  {
   "cell_type": "code",
   "execution_count": null,
   "id": "ae78005a",
   "metadata": {},
   "outputs": [],
   "source": [
    "end = datetime.utcnow().replace(tzinfo=timezone.utc)\n",
    "start = end - timedelta(days = 365)\n",
    "pnl = original_pnl[(original_pnl['end_time']>start)&(original_pnl['end_time']<end)]\n",
    "pnl.loc[pnl['name']=='total','amtUSD'] = pnl.loc[pnl['name']=='total','amtUSD'] /.2 # *10 to be in bps /2 sorry..."
   ]
  },
  {
   "cell_type": "markdown",
   "id": "044d0786",
   "metadata": {},
   "source": [
    "# Excess return in bps\n",
    "## assumes spreads are done at mid every hour\n",
    "## recent weeks are unusually bad. Pls note there is no hyperparameters (so no overfit here)\n",
    "### * carry = funding-borrow\n",
    "### * IR01 = spot*premium chg\n",
    "### * delta = 0 (only extsts during exec)"
   ]
  },
  {
   "cell_type": "code",
   "execution_count": null,
   "id": "4c966a05",
   "metadata": {
    "scrolled": true
   },
   "outputs": [],
   "source": [
    "pnl[pnl['name']=='total'].pivot_table(index='end_time',columns='bucket',values='amtUSD').cumsum().iplot()"
   ]
  },
  {
   "cell_type": "code",
   "execution_count": null,
   "id": "44d5fdaf",
   "metadata": {},
   "outputs": [],
   "source": [
    "pnl.pivot_table(index='end_time',columns='bucket',values='amtUSD').iplot()"
   ]
  },
  {
   "cell_type": "code",
   "execution_count": null,
   "id": "64414d7e",
   "metadata": {},
   "outputs": [],
   "source": []
  }
 ],
 "metadata": {
  "kernelspec": {
   "display_name": "Python 3 (ipykernel)",
   "language": "python",
   "name": "python3"
  },
  "language_info": {
   "codemirror_mode": {
    "name": "ipython",
    "version": 3
   },
   "file_extension": ".py",
   "mimetype": "text/x-python",
   "name": "python",
   "nbconvert_exporter": "python",
   "pygments_lexer": "ipython3",
   "version": "3.9.13"
  }
 },
 "nbformat": 4,
 "nbformat_minor": 5
}
