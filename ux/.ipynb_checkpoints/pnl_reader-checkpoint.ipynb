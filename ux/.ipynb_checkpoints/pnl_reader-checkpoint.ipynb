{
 "cells": [
  {
   "cell_type": "code",
   "execution_count": null,
   "id": "97579ec5",
   "metadata": {},
   "outputs": [],
   "source": [
    "from jupyter_imports import *"
   ]
  },
  {
   "cell_type": "code",
   "execution_count": null,
   "id": "01a8cd5b",
   "metadata": {},
   "outputs": [],
   "source": [
    "dirname = os.path.join(os.sep, 'tmp','prod','pnl')\n",
    "original_risk = pd.read_csv(os.path.join(os.sep, dirname ,'all_risk.csv'),parse_dates=['time'],index_col=0).sort_values(by='time')\n",
    "original_pnl = pd.read_csv(os.path.join(os.sep, dirname,'all_pnl.csv'),parse_dates=['time','start_time'],index_col=0).sort_values(by='time')"
   ]
  },
  {
   "cell_type": "code",
   "execution_count": null,
   "id": "38500ae0",
   "metadata": {},
   "outputs": [],
   "source": [
    "end = datetime.utcnow().replace(tzinfo=timezone.utc)\n",
    "start = datetime(2022,6,28,23,tzinfo=timezone.utc)\n",
    "dt = (end-start).total_seconds()/3600/24/365.25\n",
    "pnl = original_pnl[(original_pnl['time']>start)&(original_pnl['time']<end)].set_index('time')\n",
    "risk = original_risk[(original_risk['time']>start)&(original_risk['time']<end)].set_index('time')"
   ]
  },
  {
   "cell_type": "code",
   "execution_count": null,
   "id": "b10d382f",
   "metadata": {
    "scrolled": true
   },
   "outputs": [],
   "source": [
    "def category(event_type):\n",
    "    if event_type in ['future_trade','spot_trade','txFee','delta','IR01','unexplained']: return 'trades' \n",
    "    if event_type in ['funding','borrow']: return 'carry' \n",
    "    if event_type in ['delta','IR01']: return 'risk' \n",
    "    if event_type in ['unexplained']: return 'unexplained'\n",
    "pnl['category'] = pnl['event_type'].apply(category)\n",
    "#pnl.loc[pnl['category']=='carry','USDamt'] = pnl.loc[pnl['category']=='carry','USDamt'] / dt / 6.70"
   ]
  },
  {
   "cell_type": "code",
   "execution_count": null,
   "id": "5a1677d8",
   "metadata": {},
   "outputs": [],
   "source": [
    "pnl.pivot_table(index='time',columns='category',values='USDamt').fillna(0.0).cumsum().plot(secondary_y='carry',figsize=(20,10))"
   ]
  },
  {
   "cell_type": "code",
   "execution_count": null,
   "id": "39db9465",
   "metadata": {},
   "outputs": [],
   "source": [
    "pnl.pivot_table(index='time',columns='event_type',values='USDamt').fillna(0.0).cumsum().iplot()"
   ]
  },
  {
   "cell_type": "code",
   "execution_count": null,
   "id": "e4637777",
   "metadata": {},
   "outputs": [],
   "source": [
    "pnl[pnl['category']=='carry'].pivot_table(index='time',columns='coin',values='USDamt').fillna(0.0).cumsum().iplot()"
   ]
  },
  {
   "cell_type": "code",
   "execution_count": null,
   "id": "55fb9355",
   "metadata": {},
   "outputs": [],
   "source": [
    "risk[risk['event_type']=='delta'].pivot_table(index='time',columns='coin',values='usdAmt',aggfunc=sum).iplot()"
   ]
  },
  {
   "cell_type": "code",
   "execution_count": null,
   "id": "048b44a0",
   "metadata": {},
   "outputs": [],
   "source": [
    " risk[risk['event_type']=='PV'].pivot_table(index='time',columns='attribution',values='usdAmt',aggfunc=sum).iplot()"
   ]
  },
  {
   "cell_type": "code",
   "execution_count": null,
   "id": "724b6fa5",
   "metadata": {},
   "outputs": [],
   "source": []
  }
 ],
 "metadata": {
  "kernelspec": {
   "display_name": "Python 3 (ipykernel)",
   "language": "python",
   "name": "python3"
  },
  "language_info": {
   "codemirror_mode": {
    "name": "ipython",
    "version": 3
   },
   "file_extension": ".py",
   "mimetype": "text/x-python",
   "name": "python",
   "nbconvert_exporter": "python",
   "pygments_lexer": "ipython3",
   "version": "3.9.13"
  }
 },
 "nbformat": 4,
 "nbformat_minor": 5
}
