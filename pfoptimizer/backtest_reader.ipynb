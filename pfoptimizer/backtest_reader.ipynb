{
 "cells": [
  {
   "cell_type": "code",
   "execution_count": null,
   "id": "f21b0a07",
   "metadata": {},
   "outputs": [],
   "source": [
    "from jupyter_imports import *\n",
    "import copy"
   ]
  },
  {
   "cell_type": "code",
   "execution_count": null,
   "id": "ccb8288b",
   "metadata": {},
   "outputs": [],
   "source": [
    "original_pnl = pd.read_csv(os.path.join(os.sep, 'tmp','pfoptimizer','pnl.csv'), \n",
    "                           date_parser=parser.parse, \n",
    "                           parse_dates=['end_time'],\n",
    "                           index_col=0)\n",
    "original_trajectory = pd.read_csv(os.path.join(os.sep, 'tmp','pfoptimizer','trajectory.csv'))\n",
    "equity = 1e7"
   ]
  },
  {
   "cell_type": "code",
   "execution_count": null,
   "id": "ae78005a",
   "metadata": {},
   "outputs": [],
   "source": [
    "end = datetime.now().replace(tzinfo=timezone.utc)\n",
    "start = end - timedelta(days = 365)\n",
    "pnl = original_pnl[(original_pnl['end_time']>start)&(original_pnl['end_time']<end)]\n",
    "pnl['amtUSD'] *= 1e4/equity # all in bps\n",
    "# correct error(temporary !)\n",
    "pnl.loc[pnl['bucket']=='carry(USD not annualized)','amtUSD'] = pnl.loc[pnl['bucket']=='carry(USD not annualized)','amtUSD'] / 8.\n",
    "\n",
    "carry = pnl[pnl['bucket']=='carry(USD not annualized)'].drop(columns='bucket')\n",
    "weights = pnl[pnl['bucket']=='weights'].drop(columns='bucket')\n",
    "IR01 = pnl[pnl['bucket']=='IR01(USD)'].drop(columns='bucket')"
   ]
  },
  {
   "cell_type": "markdown",
   "id": "7516da11",
   "metadata": {},
   "source": [
    "# Excess return in bps\n",
    "## assumes spreads are done at mid every funding period\n",
    "## Pls note there is no hyperparamters (so no overfit here)\n",
    "### * carry = funding-borrow\n",
    "### * IR01 = spot*premium chg\n",
    "### * delta = 0 (only exists during exec)"
   ]
  },
  {
   "cell_type": "code",
   "execution_count": null,
   "id": "77688bfa",
   "metadata": {},
   "outputs": [],
   "source": [
    "pnl[(pnl['name']=='total')&(pnl['bucket']!='weights')].pivot_table(index='end_time',columns='bucket',values='amtUSD').cumsum().iplot()"
   ]
  },
  {
   "cell_type": "code",
   "execution_count": null,
   "id": "69e87f7c",
   "metadata": {},
   "outputs": [],
   "source": [
    "pnl.pivot_table(index='end_time',columns='bucket',values='amtUSD').iplot(secondary_y='weights')"
   ]
  },
  {
   "cell_type": "markdown",
   "id": "67490acc",
   "metadata": {},
   "source": [
    "## weights"
   ]
  },
  {
   "cell_type": "code",
   "execution_count": null,
   "id": "5ae2abe5",
   "metadata": {},
   "outputs": [],
   "source": [
    "carry.pivot_table(index='end_time', columns='name').xs('amtUSD', axis=1).cumsum().iplot(secondary_y=['USDT', 'total'])"
   ]
  },
  {
   "cell_type": "code",
   "execution_count": null,
   "id": "0ab6bde1",
   "metadata": {},
   "outputs": [],
   "source": [
    "avg_weights = weights.pivot_table(index='end_time', columns='name').mean().xs('amtUSD').drop(['total', 'USDT'])/1e4\n",
    "print(f'leverage = {avg_weights.sum()}')\n",
    "funding = original_trajectory.pivot_table(index='time', columns='name', values='funding')\n",
    "averages = pd.DataFrame({'avg_weight_pct': avg_weights*100,\n",
    "            'avg_funding_pct': funding.mean()*100}).sort_values('avg_weight_pct', key=abs, ascending=False)\n",
    "plt.scatter(x=averages['avg_funding_pct'], y=averages['avg_weight_pct'])\n",
    "averages.head(20)"
   ]
  },
  {
   "cell_type": "markdown",
   "id": "5e1bc737",
   "metadata": {},
   "source": [
    "# tracking error"
   ]
  },
  {
   "cell_type": "code",
   "execution_count": null,
   "id": "5c2b2c67",
   "metadata": {},
   "outputs": [],
   "source": [
    "df = copy.deepcopy(original_trajectory)\n",
    "df = df.loc[df['name']=='total', ['time', 'RealizedCarry', 'ExpectedCarry']].set_index('time')\n",
    "df['tracking_error'] = (df['RealizedCarry']-df['ExpectedCarry'])\n",
    "df = df.iloc[24:]/equity\n",
    "df.iplot()"
   ]
  },
  {
   "cell_type": "markdown",
   "id": "ad99156a",
   "metadata": {},
   "source": [
    "# benchmarks"
   ]
  },
  {
   "cell_type": "code",
   "execution_count": null,
   "id": "cbb0dff2",
   "metadata": {},
   "outputs": [],
   "source": [
    "df = copy.deepcopy(original_trajectory)\n",
    "df = df[df['name']!='USDT']\n",
    "df['RealizedCarry'] /= equity\n",
    "df['carry'] = df.apply(lambda x: max(-x['funding']-x['borrow'],x['funding']), axis=1)\n",
    "df['carry'] = df['funding']\n",
    "pivot = df.pivot_table(index='time', columns='name')\n",
    "benchmarks = pd.concat([pivot.xs(['carry'], axis=1), pivot[[('RealizedCarry', 'total')]]], axis=1).droplevel(0, axis=1)\n",
    "stats = pd.DataFrame()\n",
    "stats['vs mean'] = (benchmarks['total']-benchmarks.drop(columns='total').mean(axis=1))\n",
    "stats['vs median'] = (benchmarks['total']-benchmarks.drop(columns='total').median(axis=1))\n",
    "stats['vs 1sigma'] = stats['vs mean']-benchmarks.drop(columns='total').std(axis=1)\n",
    "stats['vs BTC'] = (benchmarks['total']-benchmarks['BTCUSDT'])\n",
    "stats['vs ETH'] = (benchmarks['total']-benchmarks['ETHUSDT'])\n",
    "stats['vs ARB'] = (benchmarks['total']-benchmarks['ARBUSDT'])\n",
    "stats.expanding().mean().iloc[24:].iplot()"
   ]
  },
  {
   "cell_type": "code",
   "execution_count": null,
   "id": "15cb88fa",
   "metadata": {},
   "outputs": [],
   "source": []
  }
 ],
 "metadata": {
  "kernelspec": {
   "display_name": "Python 3 (ipykernel)",
   "language": "python",
   "name": "python3"
  },
  "language_info": {
   "codemirror_mode": {
    "name": "ipython",
    "version": 3
   },
   "file_extension": ".py",
   "mimetype": "text/x-python",
   "name": "python",
   "nbconvert_exporter": "python",
   "pygments_lexer": "ipython3",
   "version": "3.10.12"
  }
 },
 "nbformat": 4,
 "nbformat_minor": 5
}
