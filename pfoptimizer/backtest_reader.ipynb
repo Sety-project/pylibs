{
 "cells": [
  {
   "cell_type": "code",
   "execution_count": null,
   "id": "f21b0a07",
   "metadata": {
    "scrolled": false
   },
   "outputs": [],
   "source": [
    "import os\n",
    "import sys\n",
    "sys.path.append(os.path.dirname(os.path.realpath('../ux')))\n",
    "\n",
    "from ux.jupyter_imports import *\n",
    "import copy"
   ]
  },
  {
   "cell_type": "code",
   "execution_count": null,
   "id": "ccb8288b",
   "metadata": {
    "scrolled": false
   },
   "outputs": [],
   "source": [
    "original_pnl = pd.read_csv(os.path.join(os.sep, 'tmp','pfoptimizer','pnl.csv'), \n",
    "                           date_parser=parser.parse, \n",
    "                           parse_dates=['end_time'],\n",
    "                           index_col=0)\n",
    "original_trajectory = pd.read_csv(os.path.join(os.sep, 'tmp','pfoptimizer','trajectory.csv'))\n",
    "original_history = pd.read_csv(os.path.join(os.sep, 'tmp','pfoptimizer','history.csv'), \n",
    "                               date_parser=parser.parse, \n",
    "                               index_col=0)\n",
    "equity = 1e7"
   ]
  },
  {
   "cell_type": "code",
   "execution_count": null,
   "id": "ae78005a",
   "metadata": {
    "scrolled": false
   },
   "outputs": [],
   "source": [
    "end = datetime.now().replace(tzinfo=timezone.utc)\n",
    "start = end - timedelta(days = 365)\n",
    "pnl = original_pnl[(original_pnl['end_time']>start)&(original_pnl['end_time']<end)]\n",
    "\n",
    "carry = pnl[pnl['bucket']=='carry(USD not annualized)'].drop(columns='bucket')\n",
    "carry['amtUSD'] *= 1e4/equity # in bps\n",
    "\n",
    "weights = pnl[pnl['bucket']=='weights'].drop(columns='bucket')\n",
    "weights['amtUSD'] /= equity\n",
    "\n",
    "IR01 = pnl[pnl['bucket']=='IR01(USD)'].drop(columns='bucket')\n",
    "IR01['amtUSD'] *= 1e4/equity # in bps\n",
    "\n",
    "tx_cost = pnl[pnl['bucket']=='tx_cost(USD not annualized, fwd)'].drop(columns='bucket')\n",
    "tx_cost['amtUSD'] *= 1e4/equity # in bps"
   ]
  },
  {
   "cell_type": "markdown",
   "id": "0ea8866c",
   "metadata": {},
   "source": [
    "# Excess return in bps\n",
    "## assumes spreads are done at mid every funding period\n",
    "## Pls note there is no hyperparamters (so no overfit here)\n",
    "### * carry = funding-borrow\n",
    "### * IR01 = spot*premium chg\n",
    "### * delta = 0 (only exists during exec)"
   ]
  },
  {
   "cell_type": "code",
   "execution_count": null,
   "id": "ff36854f",
   "metadata": {
    "scrolled": false
   },
   "outputs": [],
   "source": [
    "pnl_buckets = pnl[(pnl['name']=='total')&(pnl['bucket']!='weights')].pivot_table(index='end_time',columns='bucket',values='amtUSD').cumsum()\n",
    "(pnl_buckets* 1e4/equity).iplot(title=f'pnl explain', secondary_y='tx_cost(USD not annualized, fwd)')"
   ]
  },
  {
   "cell_type": "markdown",
   "id": "ce8aa1b5",
   "metadata": {},
   "source": [
    "# by coin"
   ]
  },
  {
   "cell_type": "markdown",
   "id": "ff70db92",
   "metadata": {},
   "source": [
    "### carry"
   ]
  },
  {
   "cell_type": "code",
   "execution_count": null,
   "id": "cffde01d",
   "metadata": {
    "scrolled": false
   },
   "outputs": [],
   "source": [
    "carry.pivot_table(index='end_time', columns='name').xs('amtUSD', axis=1).cumsum().iplot(secondary_y=['USDT', 'total'], title=f'cumulated carry')"
   ]
  },
  {
   "cell_type": "markdown",
   "id": "4e96bfc3",
   "metadata": {},
   "source": [
    "### weights"
   ]
  },
  {
   "cell_type": "code",
   "execution_count": null,
   "id": "bd088400",
   "metadata": {
    "scrolled": false
   },
   "outputs": [],
   "source": [
    "history = copy.deepcopy(original_history)\n",
    "spot_tickers = {col.split('_')[0] for col in history.columns if f\"{col.split('_')[0]}_rate_funding\" in history.columns}\n",
    "print(spot_tickers)\n",
    "leverage = 4\n",
    "for spot_ticker in spot_tickers:\n",
    "    coin = spot_ticker.split('USD')[0]\n",
    "    stablecoin = spot_ticker.split(coin)[1]\n",
    "    history[f'{spot_ticker}_carry_funding'] = history[f'{spot_ticker}_rate_funding']\n",
    "    history[f'{spot_ticker}_carry_{leverage}xlong'] = leverage * history[f'{spot_ticker}_rate_funding']-(leverage-1)*history[f'{stablecoin}_rate_borrow']\n",
    "    history[f'{spot_ticker}_carry_{leverage}xshort'] = leverage*(-history[f'{spot_ticker}_rate_funding']-history[f'{coin}_rate_borrow'])\n",
    "\n",
    "carry_history = history.filter(like='_carry_funding')\n",
    "USDborrow_history = history.filter(like='USDT_rate_borrow')\n",
    "weight_history = weights.pivot_table(index='end_time',columns='name',values='amtUSD').drop(columns='total')"
   ]
  },
  {
   "cell_type": "code",
   "execution_count": null,
   "id": "edeff7d6",
   "metadata": {
    "scrolled": false
   },
   "outputs": [],
   "source": [
    "joined = pd.concat([weight_history, carry_history, USDborrow_history], axis=1).resample('1d').mean()\n",
    "joined.iplot(secondary_y=list(spot_tickers.intersection(joined.columns))+['USDT'])"
   ]
  },
  {
   "cell_type": "markdown",
   "id": "2218328f",
   "metadata": {},
   "source": [
    "## leverage summary"
   ]
  },
  {
   "cell_type": "code",
   "execution_count": null,
   "id": "9ff79745",
   "metadata": {
    "scrolled": false
   },
   "outputs": [],
   "source": [
    "avg_weights = weights.pivot_table(index='end_time', columns='name').mean().xs('amtUSD').drop(['total', 'USDT'])\n",
    "print(f'leverage = {avg_weights.sum()}')\n",
    "funding = original_trajectory.pivot_table(index='time', columns='name', values='funding')\n",
    "averages = pd.DataFrame({'avg_weight_pct': avg_weights*100,\n",
    "            'avg_funding_pct': funding.mean()*100}).sort_values('avg_weight_pct', key=abs, ascending=False)\n",
    "plt.scatter(x=averages['avg_funding_pct'], y=averages['avg_weight_pct'])\n",
    "averages.head(20)"
   ]
  },
  {
   "cell_type": "markdown",
   "id": "17fe1b2c",
   "metadata": {},
   "source": [
    "## tracking error"
   ]
  },
  {
   "cell_type": "code",
   "execution_count": null,
   "id": "c2a2ae81",
   "metadata": {
    "scrolled": false
   },
   "outputs": [],
   "source": [
    "df = copy.deepcopy(original_trajectory)\n",
    "df = df.set_index('time')\n",
    "df['tracking_error'] = (df['RealizedCarry']-df['ExpectedCarry'])/df['previousWeight']\n",
    "tracking_error = df.pivot_table(index='time', columns='name', values='tracking_error')\n",
    "tracking_error.iplot(title=f'tracking error')\n",
    "tracking_error.mean()"
   ]
  },
  {
   "cell_type": "markdown",
   "id": "20d926cc",
   "metadata": {},
   "source": [
    "# benchmarks"
   ]
  },
  {
   "cell_type": "code",
   "execution_count": null,
   "id": "26e99237",
   "metadata": {
    "scrolled": false
   },
   "outputs": [],
   "source": [
    "df = copy.deepcopy(original_trajectory)\n",
    "df = df[df['name']!='USDT']\n",
    "df['RealizedCarry'] /= equity\n",
    "df['carry'] = df.apply(lambda x: max(-x['funding']-x['borrow'],x['funding']), axis=1)\n",
    "pivot = df.pivot_table(index='time', columns='name')\n",
    "benchmarks = pd.concat([pivot.xs(['carry'], axis=1), pivot[[('RealizedCarry', 'total')]]], axis=1).droplevel(0, axis=1)\n",
    "stats = pd.DataFrame()\n",
    "stats['vs mean'] = (benchmarks['total']-benchmarks.drop(columns='total').mean(axis=1))\n",
    "stats['vs median'] = (benchmarks['total']-benchmarks.drop(columns='total').median(axis=1))\n",
    "stats['vs 1sigma'] = stats['vs mean']-benchmarks.drop(columns='total').std(axis=1)\n",
    "stats['vs BTC'] = (benchmarks['total']-benchmarks['BTCUSDT'])\n",
    "# stats['vs ETH'] = (benchmarks['total']-benchmarks['ETHUSDT'])\n",
    "# stats['vs ARB'] = (benchmarks['total']-benchmarks['ARBUSDT'])\n",
    "stats.expanding().mean().iplot(title=f'perf vs benchmarks')"
   ]
  },
  {
   "cell_type": "code",
   "execution_count": null,
   "id": "444a8741",
   "metadata": {},
   "outputs": [],
   "source": []
  }
 ],
 "metadata": {
  "kernelspec": {
   "display_name": "Python 3 (ipykernel)",
   "language": "python",
   "name": "python3"
  },
  "language_info": {
   "codemirror_mode": {
    "name": "ipython",
    "version": 3
   },
   "file_extension": ".py",
   "mimetype": "text/x-python",
   "name": "python",
   "nbconvert_exporter": "python",
   "pygments_lexer": "ipython3",
   "version": "3.10.12"
  }
 },
 "nbformat": 4,
 "nbformat_minor": 5
}
